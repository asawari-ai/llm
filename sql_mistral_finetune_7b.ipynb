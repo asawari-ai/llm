{
 "cells": [
  {
   "cell_type": "markdown",
   "metadata": {
    "id": "RyuOCYM92LJb"
   },
   "source": [
    "# Fine-Tuning Mistral 7B for SQL assistant\n",
    "\n",
    "Big LLMs cannot be used for generating SQL due to privacy reasons and also cost. Let's create a small LLM to help us\n",
    "\n",
    "Total time required: < 1.5 hours.\n",
    "\n",
    "This notebook shows you a simple example of how to LoRA finetune Mistral 7B. You need A100 with 40 GB memory. This is written using Google Collab but we should be able to use any other cloud.\n",
    "\n",
    "Check out `mistral-finetune` Github repo to learn more: https://github.com/mistralai/mistral-finetune/"
   ]
  },
  {
   "cell_type": "markdown",
   "metadata": {
    "id": "yxr8mv-17GfB"
   },
   "source": [
    "## Installation\n",
    "\n",
    "Clone the `mistral-finetune` repo:\n"
   ]
  },
  {
   "cell_type": "code",
   "execution_count": 1,
   "metadata": {
    "colab": {
     "base_uri": "https://localhost:8080/"
    },
    "id": "TIj3IlIeVDIb",
    "outputId": "a4ce09a0-0582-407a-c6b0-bab43ec8867b"
   },
   "outputs": [
    {
     "name": "stdout",
     "output_type": "stream",
     "text": [
      "/content\n",
      "Cloning into 'mistral-finetune'...\n",
      "remote: Enumerating objects: 461, done.\u001b[K\n",
      "remote: Counting objects: 100% (201/201), done.\u001b[K\n",
      "remote: Compressing objects: 100% (88/88), done.\u001b[K\n",
      "remote: Total 461 (delta 154), reused 136 (delta 112), pack-reused 260 (from 1)\u001b[K\n",
      "Receiving objects: 100% (461/461), 247.79 KiB | 14.58 MiB/s, done.\n",
      "Resolving deltas: 100% (238/238), done.\n"
     ]
    }
   ],
   "source": [
    "%cd /content/\n",
    "!git clone https://github.com/mistralai/mistral-finetune.git"
   ]
  },
  {
   "cell_type": "markdown",
   "metadata": {
    "id": "mQPd_pGT7WiY"
   },
   "source": [
    "Install all required dependencies:"
   ]
  },
  {
   "cell_type": "code",
   "execution_count": 2,
   "metadata": {
    "colab": {
     "base_uri": "https://localhost:8080/"
    },
    "id": "KuTOGipl7BS7",
    "outputId": "efed940c-f86d-46f5-fea1-b9b5887ea510"
   },
   "outputs": [
    {
     "name": "stdout",
     "output_type": "stream",
     "text": [
      "Collecting fire (from -r /content/mistral-finetune/requirements.txt (line 1))\n",
      "  Downloading fire-0.6.0.tar.gz (88 kB)\n",
      "\u001b[2K     \u001b[90m━━━━━━━━━━━━━━━━━━━━━━━━━━━━━━━━━━━━━━━━\u001b[0m \u001b[32m88.4/88.4 kB\u001b[0m \u001b[31m7.0 MB/s\u001b[0m eta \u001b[36m0:00:00\u001b[0m\n",
      "\u001b[?25h  Preparing metadata (setup.py) ... \u001b[?25l\u001b[?25hdone\n",
      "Requirement already satisfied: simple-parsing in /usr/local/lib/python3.10/dist-packages (from -r /content/mistral-finetune/requirements.txt (line 2)) (0.1.5)\n",
      "Requirement already satisfied: pyyaml in /usr/local/lib/python3.10/dist-packages (from -r /content/mistral-finetune/requirements.txt (line 3)) (6.0.2)\n",
      "Collecting mistral-common>=1.3.1 (from -r /content/mistral-finetune/requirements.txt (line 4))\n",
      "  Downloading mistral_common-1.3.4-py3-none-any.whl.metadata (4.3 kB)\n",
      "Requirement already satisfied: safetensors in /usr/local/lib/python3.10/dist-packages (from -r /content/mistral-finetune/requirements.txt (line 5)) (0.4.4)\n",
      "Requirement already satisfied: tensorboard in /usr/local/lib/python3.10/dist-packages (from -r /content/mistral-finetune/requirements.txt (line 6)) (2.17.0)\n",
      "Requirement already satisfied: tqdm in /usr/local/lib/python3.10/dist-packages (from -r /content/mistral-finetune/requirements.txt (line 7)) (4.66.5)\n",
      "Collecting torch==2.2 (from -r /content/mistral-finetune/requirements.txt (line 9))\n",
      "  Downloading torch-2.2.0-cp310-cp310-manylinux1_x86_64.whl.metadata (25 kB)\n",
      "Collecting triton==2.2 (from -r /content/mistral-finetune/requirements.txt (line 10))\n",
      "  Downloading triton-2.2.0-cp310-cp310-manylinux_2_17_x86_64.manylinux2014_x86_64.whl.metadata (1.4 kB)\n",
      "Collecting xformers==0.0.24 (from -r /content/mistral-finetune/requirements.txt (line 11))\n",
      "  Downloading xformers-0.0.24-cp310-cp310-manylinux2014_x86_64.whl.metadata (1.0 kB)\n",
      "Requirement already satisfied: filelock in /usr/local/lib/python3.10/dist-packages (from torch==2.2->-r /content/mistral-finetune/requirements.txt (line 9)) (3.15.4)\n",
      "Requirement already satisfied: typing-extensions>=4.8.0 in /usr/local/lib/python3.10/dist-packages (from torch==2.2->-r /content/mistral-finetune/requirements.txt (line 9)) (4.12.2)\n",
      "Requirement already satisfied: sympy in /usr/local/lib/python3.10/dist-packages (from torch==2.2->-r /content/mistral-finetune/requirements.txt (line 9)) (1.13.2)\n",
      "Requirement already satisfied: networkx in /usr/local/lib/python3.10/dist-packages (from torch==2.2->-r /content/mistral-finetune/requirements.txt (line 9)) (3.3)\n",
      "Requirement already satisfied: jinja2 in /usr/local/lib/python3.10/dist-packages (from torch==2.2->-r /content/mistral-finetune/requirements.txt (line 9)) (3.1.4)\n",
      "Requirement already satisfied: fsspec in /usr/local/lib/python3.10/dist-packages (from torch==2.2->-r /content/mistral-finetune/requirements.txt (line 9)) (2024.6.1)\n",
      "Collecting nvidia-cuda-nvrtc-cu12==12.1.105 (from torch==2.2->-r /content/mistral-finetune/requirements.txt (line 9))\n",
      "  Using cached nvidia_cuda_nvrtc_cu12-12.1.105-py3-none-manylinux1_x86_64.whl.metadata (1.5 kB)\n",
      "Collecting nvidia-cuda-runtime-cu12==12.1.105 (from torch==2.2->-r /content/mistral-finetune/requirements.txt (line 9))\n",
      "  Using cached nvidia_cuda_runtime_cu12-12.1.105-py3-none-manylinux1_x86_64.whl.metadata (1.5 kB)\n",
      "Collecting nvidia-cuda-cupti-cu12==12.1.105 (from torch==2.2->-r /content/mistral-finetune/requirements.txt (line 9))\n",
      "  Using cached nvidia_cuda_cupti_cu12-12.1.105-py3-none-manylinux1_x86_64.whl.metadata (1.6 kB)\n",
      "Collecting nvidia-cudnn-cu12==8.9.2.26 (from torch==2.2->-r /content/mistral-finetune/requirements.txt (line 9))\n",
      "  Using cached nvidia_cudnn_cu12-8.9.2.26-py3-none-manylinux1_x86_64.whl.metadata (1.6 kB)\n",
      "Collecting nvidia-cublas-cu12==12.1.3.1 (from torch==2.2->-r /content/mistral-finetune/requirements.txt (line 9))\n",
      "  Using cached nvidia_cublas_cu12-12.1.3.1-py3-none-manylinux1_x86_64.whl.metadata (1.5 kB)\n",
      "Collecting nvidia-cufft-cu12==11.0.2.54 (from torch==2.2->-r /content/mistral-finetune/requirements.txt (line 9))\n",
      "  Using cached nvidia_cufft_cu12-11.0.2.54-py3-none-manylinux1_x86_64.whl.metadata (1.5 kB)\n",
      "Collecting nvidia-curand-cu12==10.3.2.106 (from torch==2.2->-r /content/mistral-finetune/requirements.txt (line 9))\n",
      "  Using cached nvidia_curand_cu12-10.3.2.106-py3-none-manylinux1_x86_64.whl.metadata (1.5 kB)\n",
      "Collecting nvidia-cusolver-cu12==11.4.5.107 (from torch==2.2->-r /content/mistral-finetune/requirements.txt (line 9))\n",
      "  Using cached nvidia_cusolver_cu12-11.4.5.107-py3-none-manylinux1_x86_64.whl.metadata (1.6 kB)\n",
      "Collecting nvidia-cusparse-cu12==12.1.0.106 (from torch==2.2->-r /content/mistral-finetune/requirements.txt (line 9))\n",
      "  Using cached nvidia_cusparse_cu12-12.1.0.106-py3-none-manylinux1_x86_64.whl.metadata (1.6 kB)\n",
      "Collecting nvidia-nccl-cu12==2.19.3 (from torch==2.2->-r /content/mistral-finetune/requirements.txt (line 9))\n",
      "  Downloading nvidia_nccl_cu12-2.19.3-py3-none-manylinux1_x86_64.whl.metadata (1.8 kB)\n",
      "Collecting nvidia-nvtx-cu12==12.1.105 (from torch==2.2->-r /content/mistral-finetune/requirements.txt (line 9))\n",
      "  Using cached nvidia_nvtx_cu12-12.1.105-py3-none-manylinux1_x86_64.whl.metadata (1.7 kB)\n",
      "Requirement already satisfied: numpy in /usr/local/lib/python3.10/dist-packages (from xformers==0.0.24->-r /content/mistral-finetune/requirements.txt (line 11)) (1.26.4)\n",
      "Collecting nvidia-nvjitlink-cu12 (from nvidia-cusolver-cu12==11.4.5.107->torch==2.2->-r /content/mistral-finetune/requirements.txt (line 9))\n",
      "  Using cached nvidia_nvjitlink_cu12-12.6.20-py3-none-manylinux2014_x86_64.whl.metadata (1.5 kB)\n",
      "Requirement already satisfied: six in /usr/local/lib/python3.10/dist-packages (from fire->-r /content/mistral-finetune/requirements.txt (line 1)) (1.16.0)\n",
      "Requirement already satisfied: termcolor in /usr/local/lib/python3.10/dist-packages (from fire->-r /content/mistral-finetune/requirements.txt (line 1)) (2.4.0)\n",
      "Requirement already satisfied: docstring-parser~=0.15 in /usr/local/lib/python3.10/dist-packages (from simple-parsing->-r /content/mistral-finetune/requirements.txt (line 2)) (0.16)\n",
      "Requirement already satisfied: jsonschema<5.0.0,>=4.21.1 in /usr/local/lib/python3.10/dist-packages (from mistral-common>=1.3.1->-r /content/mistral-finetune/requirements.txt (line 4)) (4.23.0)\n",
      "Requirement already satisfied: pydantic<3.0.0,>=2.6.1 in /usr/local/lib/python3.10/dist-packages (from mistral-common>=1.3.1->-r /content/mistral-finetune/requirements.txt (line 4)) (2.8.2)\n",
      "Collecting sentencepiece==0.2.0 (from mistral-common>=1.3.1->-r /content/mistral-finetune/requirements.txt (line 4))\n",
      "  Downloading sentencepiece-0.2.0-cp310-cp310-manylinux_2_17_x86_64.manylinux2014_x86_64.whl.metadata (7.7 kB)\n",
      "Collecting tiktoken<0.8.0,>=0.7.0 (from mistral-common>=1.3.1->-r /content/mistral-finetune/requirements.txt (line 4))\n",
      "  Downloading tiktoken-0.7.0-cp310-cp310-manylinux_2_17_x86_64.manylinux2014_x86_64.whl.metadata (6.6 kB)\n",
      "Requirement already satisfied: absl-py>=0.4 in /usr/local/lib/python3.10/dist-packages (from tensorboard->-r /content/mistral-finetune/requirements.txt (line 6)) (1.4.0)\n",
      "Requirement already satisfied: grpcio>=1.48.2 in /usr/local/lib/python3.10/dist-packages (from tensorboard->-r /content/mistral-finetune/requirements.txt (line 6)) (1.64.1)\n",
      "Requirement already satisfied: markdown>=2.6.8 in /usr/local/lib/python3.10/dist-packages (from tensorboard->-r /content/mistral-finetune/requirements.txt (line 6)) (3.6)\n",
      "Requirement already satisfied: protobuf!=4.24.0,<5.0.0,>=3.19.6 in /usr/local/lib/python3.10/dist-packages (from tensorboard->-r /content/mistral-finetune/requirements.txt (line 6)) (3.20.3)\n",
      "Requirement already satisfied: setuptools>=41.0.0 in /usr/local/lib/python3.10/dist-packages (from tensorboard->-r /content/mistral-finetune/requirements.txt (line 6)) (71.0.4)\n",
      "Requirement already satisfied: tensorboard-data-server<0.8.0,>=0.7.0 in /usr/local/lib/python3.10/dist-packages (from tensorboard->-r /content/mistral-finetune/requirements.txt (line 6)) (0.7.2)\n",
      "Requirement already satisfied: werkzeug>=1.0.1 in /usr/local/lib/python3.10/dist-packages (from tensorboard->-r /content/mistral-finetune/requirements.txt (line 6)) (3.0.3)\n",
      "Requirement already satisfied: attrs>=22.2.0 in /usr/local/lib/python3.10/dist-packages (from jsonschema<5.0.0,>=4.21.1->mistral-common>=1.3.1->-r /content/mistral-finetune/requirements.txt (line 4)) (24.2.0)\n",
      "Requirement already satisfied: jsonschema-specifications>=2023.03.6 in /usr/local/lib/python3.10/dist-packages (from jsonschema<5.0.0,>=4.21.1->mistral-common>=1.3.1->-r /content/mistral-finetune/requirements.txt (line 4)) (2023.12.1)\n",
      "Requirement already satisfied: referencing>=0.28.4 in /usr/local/lib/python3.10/dist-packages (from jsonschema<5.0.0,>=4.21.1->mistral-common>=1.3.1->-r /content/mistral-finetune/requirements.txt (line 4)) (0.35.1)\n",
      "Requirement already satisfied: rpds-py>=0.7.1 in /usr/local/lib/python3.10/dist-packages (from jsonschema<5.0.0,>=4.21.1->mistral-common>=1.3.1->-r /content/mistral-finetune/requirements.txt (line 4)) (0.20.0)\n",
      "Requirement already satisfied: annotated-types>=0.4.0 in /usr/local/lib/python3.10/dist-packages (from pydantic<3.0.0,>=2.6.1->mistral-common>=1.3.1->-r /content/mistral-finetune/requirements.txt (line 4)) (0.7.0)\n",
      "Requirement already satisfied: pydantic-core==2.20.1 in /usr/local/lib/python3.10/dist-packages (from pydantic<3.0.0,>=2.6.1->mistral-common>=1.3.1->-r /content/mistral-finetune/requirements.txt (line 4)) (2.20.1)\n",
      "Requirement already satisfied: regex>=2022.1.18 in /usr/local/lib/python3.10/dist-packages (from tiktoken<0.8.0,>=0.7.0->mistral-common>=1.3.1->-r /content/mistral-finetune/requirements.txt (line 4)) (2024.5.15)\n",
      "Requirement already satisfied: requests>=2.26.0 in /usr/local/lib/python3.10/dist-packages (from tiktoken<0.8.0,>=0.7.0->mistral-common>=1.3.1->-r /content/mistral-finetune/requirements.txt (line 4)) (2.32.3)\n",
      "Requirement already satisfied: MarkupSafe>=2.1.1 in /usr/local/lib/python3.10/dist-packages (from werkzeug>=1.0.1->tensorboard->-r /content/mistral-finetune/requirements.txt (line 6)) (2.1.5)\n",
      "Requirement already satisfied: mpmath<1.4,>=1.1.0 in /usr/local/lib/python3.10/dist-packages (from sympy->torch==2.2->-r /content/mistral-finetune/requirements.txt (line 9)) (1.3.0)\n",
      "Requirement already satisfied: charset-normalizer<4,>=2 in /usr/local/lib/python3.10/dist-packages (from requests>=2.26.0->tiktoken<0.8.0,>=0.7.0->mistral-common>=1.3.1->-r /content/mistral-finetune/requirements.txt (line 4)) (3.3.2)\n",
      "Requirement already satisfied: idna<4,>=2.5 in /usr/local/lib/python3.10/dist-packages (from requests>=2.26.0->tiktoken<0.8.0,>=0.7.0->mistral-common>=1.3.1->-r /content/mistral-finetune/requirements.txt (line 4)) (3.7)\n",
      "Requirement already satisfied: urllib3<3,>=1.21.1 in /usr/local/lib/python3.10/dist-packages (from requests>=2.26.0->tiktoken<0.8.0,>=0.7.0->mistral-common>=1.3.1->-r /content/mistral-finetune/requirements.txt (line 4)) (2.0.7)\n",
      "Requirement already satisfied: certifi>=2017.4.17 in /usr/local/lib/python3.10/dist-packages (from requests>=2.26.0->tiktoken<0.8.0,>=0.7.0->mistral-common>=1.3.1->-r /content/mistral-finetune/requirements.txt (line 4)) (2024.7.4)\n",
      "Downloading torch-2.2.0-cp310-cp310-manylinux1_x86_64.whl (755.5 MB)\n",
      "\u001b[2K   \u001b[90m━━━━━━━━━━━━━━━━━━━━━━━━━━━━━━━━━━━━━━━━\u001b[0m \u001b[32m755.5/755.5 MB\u001b[0m \u001b[31m1.5 MB/s\u001b[0m eta \u001b[36m0:00:00\u001b[0m\n",
      "\u001b[?25hDownloading triton-2.2.0-cp310-cp310-manylinux_2_17_x86_64.manylinux2014_x86_64.whl (167.9 MB)\n",
      "\u001b[2K   \u001b[90m━━━━━━━━━━━━━━━━━━━━━━━━━━━━━━━━━━━━━━━━\u001b[0m \u001b[32m167.9/167.9 MB\u001b[0m \u001b[31m13.5 MB/s\u001b[0m eta \u001b[36m0:00:00\u001b[0m\n",
      "\u001b[?25hDownloading xformers-0.0.24-cp310-cp310-manylinux2014_x86_64.whl (218.2 MB)\n",
      "\u001b[2K   \u001b[90m━━━━━━━━━━━━━━━━━━━━━━━━━━━━━━━━━━━━━━━━\u001b[0m \u001b[32m218.2/218.2 MB\u001b[0m \u001b[31m7.6 MB/s\u001b[0m eta \u001b[36m0:00:00\u001b[0m\n",
      "\u001b[?25hUsing cached nvidia_cublas_cu12-12.1.3.1-py3-none-manylinux1_x86_64.whl (410.6 MB)\n",
      "Using cached nvidia_cuda_cupti_cu12-12.1.105-py3-none-manylinux1_x86_64.whl (14.1 MB)\n",
      "Using cached nvidia_cuda_nvrtc_cu12-12.1.105-py3-none-manylinux1_x86_64.whl (23.7 MB)\n",
      "Using cached nvidia_cuda_runtime_cu12-12.1.105-py3-none-manylinux1_x86_64.whl (823 kB)\n",
      "Using cached nvidia_cudnn_cu12-8.9.2.26-py3-none-manylinux1_x86_64.whl (731.7 MB)\n",
      "Using cached nvidia_cufft_cu12-11.0.2.54-py3-none-manylinux1_x86_64.whl (121.6 MB)\n",
      "Using cached nvidia_curand_cu12-10.3.2.106-py3-none-manylinux1_x86_64.whl (56.5 MB)\n",
      "Using cached nvidia_cusolver_cu12-11.4.5.107-py3-none-manylinux1_x86_64.whl (124.2 MB)\n",
      "Using cached nvidia_cusparse_cu12-12.1.0.106-py3-none-manylinux1_x86_64.whl (196.0 MB)\n",
      "Downloading nvidia_nccl_cu12-2.19.3-py3-none-manylinux1_x86_64.whl (166.0 MB)\n",
      "\u001b[2K   \u001b[90m━━━━━━━━━━━━━━━━━━━━━━━━━━━━━━━━━━━━━━━━\u001b[0m \u001b[32m166.0/166.0 MB\u001b[0m \u001b[31m4.5 MB/s\u001b[0m eta \u001b[36m0:00:00\u001b[0m\n",
      "\u001b[?25hUsing cached nvidia_nvtx_cu12-12.1.105-py3-none-manylinux1_x86_64.whl (99 kB)\n",
      "Downloading mistral_common-1.3.4-py3-none-any.whl (3.3 MB)\n",
      "\u001b[2K   \u001b[90m━━━━━━━━━━━━━━━━━━━━━━━━━━━━━━━━━━━━━━━━\u001b[0m \u001b[32m3.3/3.3 MB\u001b[0m \u001b[31m93.8 MB/s\u001b[0m eta \u001b[36m0:00:00\u001b[0m\n",
      "\u001b[?25hDownloading sentencepiece-0.2.0-cp310-cp310-manylinux_2_17_x86_64.manylinux2014_x86_64.whl (1.3 MB)\n",
      "\u001b[2K   \u001b[90m━━━━━━━━━━━━━━━━━━━━━━━━━━━━━━━━━━━━━━━━\u001b[0m \u001b[32m1.3/1.3 MB\u001b[0m \u001b[31m72.2 MB/s\u001b[0m eta \u001b[36m0:00:00\u001b[0m\n",
      "\u001b[?25hDownloading tiktoken-0.7.0-cp310-cp310-manylinux_2_17_x86_64.manylinux2014_x86_64.whl (1.1 MB)\n",
      "\u001b[2K   \u001b[90m━━━━━━━━━━━━━━━━━━━━━━━━━━━━━━━━━━━━━━━━\u001b[0m \u001b[32m1.1/1.1 MB\u001b[0m \u001b[31m62.6 MB/s\u001b[0m eta \u001b[36m0:00:00\u001b[0m\n",
      "\u001b[?25hUsing cached nvidia_nvjitlink_cu12-12.6.20-py3-none-manylinux2014_x86_64.whl (19.7 MB)\n",
      "Building wheels for collected packages: fire\n",
      "  Building wheel for fire (setup.py) ... \u001b[?25l\u001b[?25hdone\n",
      "  Created wheel for fire: filename=fire-0.6.0-py2.py3-none-any.whl size=117030 sha256=6ead7c22a35fa25ac89508b3f763bcb55805152f9aeae537feffcffe479b5cd8\n",
      "  Stored in directory: /root/.cache/pip/wheels/d6/6d/5d/5b73fa0f46d01a793713f8859201361e9e581ced8c75e5c6a3\n",
      "Successfully built fire\n",
      "Installing collected packages: sentencepiece, triton, nvidia-nvtx-cu12, nvidia-nvjitlink-cu12, nvidia-nccl-cu12, nvidia-curand-cu12, nvidia-cufft-cu12, nvidia-cuda-runtime-cu12, nvidia-cuda-nvrtc-cu12, nvidia-cuda-cupti-cu12, nvidia-cublas-cu12, fire, tiktoken, nvidia-cusparse-cu12, nvidia-cudnn-cu12, nvidia-cusolver-cu12, torch, mistral-common, xformers\n",
      "  Attempting uninstall: sentencepiece\n",
      "    Found existing installation: sentencepiece 0.1.99\n",
      "    Uninstalling sentencepiece-0.1.99:\n",
      "      Successfully uninstalled sentencepiece-0.1.99\n",
      "  Attempting uninstall: triton\n",
      "    Found existing installation: triton 2.3.1\n",
      "    Uninstalling triton-2.3.1:\n",
      "      Successfully uninstalled triton-2.3.1\n",
      "  Attempting uninstall: torch\n",
      "    Found existing installation: torch 2.3.1+cu121\n",
      "    Uninstalling torch-2.3.1+cu121:\n",
      "      Successfully uninstalled torch-2.3.1+cu121\n",
      "\u001b[31mERROR: pip's dependency resolver does not currently take into account all the packages that are installed. This behaviour is the source of the following dependency conflicts.\n",
      "torchaudio 2.3.1+cu121 requires torch==2.3.1, but you have torch 2.2.0 which is incompatible.\n",
      "torchtext 0.18.0 requires torch>=2.3.0, but you have torch 2.2.0 which is incompatible.\n",
      "torchvision 0.18.1+cu121 requires torch==2.3.1, but you have torch 2.2.0 which is incompatible.\u001b[0m\u001b[31m\n",
      "\u001b[0mSuccessfully installed fire-0.6.0 mistral-common-1.3.4 nvidia-cublas-cu12-12.1.3.1 nvidia-cuda-cupti-cu12-12.1.105 nvidia-cuda-nvrtc-cu12-12.1.105 nvidia-cuda-runtime-cu12-12.1.105 nvidia-cudnn-cu12-8.9.2.26 nvidia-cufft-cu12-11.0.2.54 nvidia-curand-cu12-10.3.2.106 nvidia-cusolver-cu12-11.4.5.107 nvidia-cusparse-cu12-12.1.0.106 nvidia-nccl-cu12-2.19.3 nvidia-nvjitlink-cu12-12.6.20 nvidia-nvtx-cu12-12.1.105 sentencepiece-0.2.0 tiktoken-0.7.0 torch-2.2.0 triton-2.2.0 xformers-0.0.24\n"
     ]
    }
   ],
   "source": [
    "!pip install -r /content/mistral-finetune/requirements.txt"
   ]
  },
  {
   "cell_type": "markdown",
   "metadata": {
    "id": "LgdIAi257jLo"
   },
   "source": [
    "## Model download"
   ]
  },
  {
   "cell_type": "code",
   "execution_count": 3,
   "metadata": {
    "colab": {
     "base_uri": "https://localhost:8080/"
    },
    "id": "hC46wcduCsDw",
    "outputId": "e89cfd8e-8fba-4da8-9057-70c5c0585ac9"
   },
   "outputs": [
    {
     "name": "stdout",
     "output_type": "stream",
     "text": [
      "Requirement already satisfied: huggingface_hub in /usr/local/lib/python3.10/dist-packages (0.23.5)\n",
      "Requirement already satisfied: filelock in /usr/local/lib/python3.10/dist-packages (from huggingface_hub) (3.15.4)\n",
      "Requirement already satisfied: fsspec>=2023.5.0 in /usr/local/lib/python3.10/dist-packages (from huggingface_hub) (2024.6.1)\n",
      "Requirement already satisfied: packaging>=20.9 in /usr/local/lib/python3.10/dist-packages (from huggingface_hub) (24.1)\n",
      "Requirement already satisfied: pyyaml>=5.1 in /usr/local/lib/python3.10/dist-packages (from huggingface_hub) (6.0.2)\n",
      "Requirement already satisfied: requests in /usr/local/lib/python3.10/dist-packages (from huggingface_hub) (2.32.3)\n",
      "Requirement already satisfied: tqdm>=4.42.1 in /usr/local/lib/python3.10/dist-packages (from huggingface_hub) (4.66.5)\n",
      "Requirement already satisfied: typing-extensions>=3.7.4.3 in /usr/local/lib/python3.10/dist-packages (from huggingface_hub) (4.12.2)\n",
      "Requirement already satisfied: charset-normalizer<4,>=2 in /usr/local/lib/python3.10/dist-packages (from requests->huggingface_hub) (3.3.2)\n",
      "Requirement already satisfied: idna<4,>=2.5 in /usr/local/lib/python3.10/dist-packages (from requests->huggingface_hub) (3.7)\n",
      "Requirement already satisfied: urllib3<3,>=1.21.1 in /usr/local/lib/python3.10/dist-packages (from requests->huggingface_hub) (2.0.7)\n",
      "Requirement already satisfied: certifi>=2017.4.17 in /usr/local/lib/python3.10/dist-packages (from requests->huggingface_hub) (2024.7.4)\n"
     ]
    }
   ],
   "source": [
    "!pip install huggingface_hub"
   ]
  },
  {
   "cell_type": "code",
   "execution_count": 4,
   "metadata": {
    "id": "hFhxfeV5CsDx"
   },
   "outputs": [],
   "source": [
    "# huggingface login , Enter your HF token below.\n",
    "import os\n",
    "os.environ[\"HF_TOKEN\"] = \"<Your HF Token>\""
   ]
  },
  {
   "cell_type": "code",
   "execution_count": 5,
   "metadata": {
    "colab": {
     "base_uri": "https://localhost:8080/",
     "height": 275,
     "referenced_widgets": [
      "062afca84fb94a65bce46ee5e460aa91",
      "e322c37b34974863a1c30b4e426a653b",
      "c876aa81aeed412cad8a2323f49037d7",
      "302bd8dd832248e497a87464c8c942ab",
      "8b3467a0915d48e5a4a0a3b3c100ec85",
      "9feb462a1c42455597386b291de9f0a9",
      "1c054f03ce2240abbfa01aff4a6c9570",
      "da99106f02704123b421a5ae660dffe6",
      "bce977cac1b949b5810e107c681d5e52",
      "73a793a364c8425687fbac7d33ad5a75",
      "6dd2ece4a7744558a36e2c20b4537db6",
      "18d4c10464604284be01af68533efc89",
      "60fe041411ef4fdf8ac73e5a5e599cb8",
      "d67a0b847ed04472930497fb8e5e7343",
      "1bbf1700cc674a2aa27dadb547134745",
      "aeef43872f6845799061e2d47de78593",
      "858f2aab30af4c8e8ce4d5a9d8ccd438",
      "bef1511277b84fec9092c1642129e2bc",
      "9d081f320ed44cc5839fe46f87ac8468",
      "201c097c6be24558b007d74ba3bd1efb",
      "51d3f820c98641f59dab8def40d61cf8",
      "5af906769daa49cfb378e4b3cc668817",
      "cdedbeb84211432982efd711399d2e0e",
      "be480f30a48f414ebec51d3907d2e234",
      "b2e697374c5449c9baa63a9ee5c012ef",
      "b0ec9ecbd4304a68982046c1185f9659",
      "387a5525e4b043abaf82606f36dcd9c2",
      "80d298b210f0406394ba59a029f70576",
      "a619cd151e194f63b5463eada77cbd1b",
      "f8a18e34941244a081696ccee70c2b13",
      "e3f04204321f4f24b82af5fc17824cd9",
      "dc3b591491a141b1816d4953156a2411",
      "4c4b1c040b6c4b9c8186a90f2a95e0c4",
      "5c816c29b3ed4460af27074229120071",
      "efa242ff2c34432daceb4d52df77e6bd",
      "dbcf62e40bd441a480be09d7e31ace61",
      "ac6565464d304d77aa9b704809232d40",
      "e2e0daaed0f647a0800b3feeadaab157",
      "cfe249d3e12d47ffa01d9abd6e7c7fd0",
      "fc51ae195535481f8eba25f30c96dd85",
      "634d32fe6a9f40c69532dbbe079bc7dd",
      "3dbf09f366ae43cbad2c3b733cb8aa32",
      "1f5d09dff6f94366953c7765e44b1a49",
      "53b8ef0d7b5e401786af88a0dc4446aa"
     ]
    },
    "id": "qgjAADBFHB0S",
    "outputId": "948d3956-365e-4a71-a7cf-702e3582118e"
   },
   "outputs": [
    {
     "name": "stderr",
     "output_type": "stream",
     "text": [
      "/usr/local/lib/python3.10/dist-packages/huggingface_hub/utils/_token.py:89: UserWarning: \n",
      "The secret `HF_TOKEN` does not exist in your Colab secrets.\n",
      "To authenticate with the Hugging Face Hub, create a token in your settings tab (https://huggingface.co/settings/tokens), set it as secret in your Google Colab and restart your session.\n",
      "You will be able to reuse this secret in all of your notebooks.\n",
      "Please note that authentication is recommended but still optional to access public models or datasets.\n",
      "  warnings.warn(\n"
     ]
    },
    {
     "data": {
      "application/vnd.jupyter.widget-view+json": {
       "model_id": "062afca84fb94a65bce46ee5e460aa91",
       "version_major": 2,
       "version_minor": 0
      },
      "text/plain": [
       "Fetching 3 files:   0%|          | 0/3 [00:00<?, ?it/s]"
      ]
     },
     "metadata": {},
     "output_type": "display_data"
    },
    {
     "data": {
      "application/vnd.jupyter.widget-view+json": {
       "model_id": "18d4c10464604284be01af68533efc89",
       "version_major": 2,
       "version_minor": 0
      },
      "text/plain": [
       "consolidated.safetensors:   0%|          | 0.00/14.5G [00:00<?, ?B/s]"
      ]
     },
     "metadata": {},
     "output_type": "display_data"
    },
    {
     "data": {
      "application/vnd.jupyter.widget-view+json": {
       "model_id": "cdedbeb84211432982efd711399d2e0e",
       "version_major": 2,
       "version_minor": 0
      },
      "text/plain": [
       "params.json:   0%|          | 0.00/202 [00:00<?, ?B/s]"
      ]
     },
     "metadata": {},
     "output_type": "display_data"
    },
    {
     "data": {
      "application/vnd.jupyter.widget-view+json": {
       "model_id": "5c816c29b3ed4460af27074229120071",
       "version_major": 2,
       "version_minor": 0
      },
      "text/plain": [
       "tokenizer.model.v3:   0%|          | 0.00/587k [00:00<?, ?B/s]"
      ]
     },
     "metadata": {},
     "output_type": "display_data"
    }
   ],
   "source": [
    "from huggingface_hub import snapshot_download\n",
    "from pathlib import Path\n",
    "\n",
    "mistral_models_path = Path.home().joinpath('mistral_models', '7B-v0.3')\n",
    "mistral_models_path.mkdir(parents=True, exist_ok=True)\n",
    "\n",
    "snapshot_download(repo_id=\"mistralai/Mistral-7B-v0.3\", allow_patterns=[\"params.json\", \"consolidated.safetensors\", \"tokenizer.model.v3\"], local_dir=mistral_models_path)\n",
    "\n",
    "! cp -r /root/mistral_models/7B-v0.3 /content/mistral_models\n",
    "! rm -r /root/mistral_models/7B-v0.3"
   ]
  },
  {
   "cell_type": "code",
   "execution_count": 6,
   "metadata": {
    "colab": {
     "base_uri": "https://localhost:8080/"
    },
    "id": "3PxYGmcy4gu0",
    "outputId": "b9ec00a9-f186-4c6f-cf2c-d31cf33227a1"
   },
   "outputs": [
    {
     "name": "stdout",
     "output_type": "stream",
     "text": [
      "consolidated.safetensors  params.json  tokenizer.model.v3\n"
     ]
    }
   ],
   "source": [
    "!ls /content/mistral_models"
   ]
  },
  {
   "cell_type": "markdown",
   "metadata": {
    "id": "ams-19wF8zgY"
   },
   "source": [
    "## Prepare dataset\n",
    "\n",
    "To ensure effective training, mistral-finetune has strict requirements for how the training data has to be formatted. Check out the required data formatting [here](https://github.com/mistralai/mistral-finetune/tree/main?tab=readme-ov-file#prepare-dataset).\n",
    "\n",
    "In this example, let’s use the sql_create_context_v4.json dataset.This dataset has around 78k SQL records and text captions."
   ]
  },
  {
   "cell_type": "code",
   "execution_count": 7,
   "metadata": {
    "colab": {
     "base_uri": "https://localhost:8080/"
    },
    "id": "T33N2SwCIhEl",
    "outputId": "c592995b-2a94-4fd3-fee5-7626343b767c"
   },
   "outputs": [
    {
     "name": "stdout",
     "output_type": "stream",
     "text": [
      "/content\n"
     ]
    }
   ],
   "source": [
    "%cd /content/"
   ]
  },
  {
   "cell_type": "code",
   "execution_count": 8,
   "metadata": {
    "id": "i7bmgXvG1vUq"
   },
   "outputs": [],
   "source": [
    "# make a new directory called data\n",
    "!mkdir -p data"
   ]
  },
  {
   "cell_type": "code",
   "execution_count": 9,
   "metadata": {
    "colab": {
     "base_uri": "https://localhost:8080/",
     "height": 68,
     "referenced_widgets": [
      "8d29dec1e2c3415d89294fa1f92207a9",
      "4d11211c29cb4dac84e611005b2011f9",
      "c3c64c182aa44231a8fb316e23931bf6",
      "8d658d7b418d49f7af8801dbadcebfd0",
      "9f53c8f8f2984f518b3d20d4e93b8bd5",
      "7a42c948365f48a3b47725eb0c87c8a0",
      "bbeac0b3a30846d5b0f3602bca99b6e5",
      "52ac1ce76d294170963ee785ec173bba",
      "02b24a80fdb0465582a599736304789b",
      "d46219920dd64b5990830e09d76e8eb0",
      "e7b55c10b1934789a772f87b9ed028d9"
     ]
    },
    "id": "y9hstpcKiU-Q",
    "outputId": "e24c8ca3-2702-4ed2-dc37-3473f2501347"
   },
   "outputs": [
    {
     "data": {
      "application/vnd.jupyter.widget-view+json": {
       "model_id": "8d29dec1e2c3415d89294fa1f92207a9",
       "version_major": 2,
       "version_minor": 0
      },
      "text/plain": [
       "sql_create_context_v4.json:   0%|          | 0.00/21.8M [00:00<?, ?B/s]"
      ]
     },
     "metadata": {},
     "output_type": "display_data"
    },
    {
     "data": {
      "application/vnd.google.colaboratory.intrinsic+json": {
       "type": "string"
      },
      "text/plain": [
       "'/content/data/sql_create_context_v4.json'"
      ]
     },
     "execution_count": 9,
     "metadata": {},
     "output_type": "execute_result"
    }
   ],
   "source": [
    "# download dataset to data folder\n",
    "from huggingface_hub import hf_hub_download\n",
    "hf_hub_download(repo_id=\"b-mc2/sql-create-context\", filename=\"sql_create_context_v4.json\", repo_type=\"dataset\", local_dir=\"/content/data\")"
   ]
  },
  {
   "cell_type": "markdown",
   "metadata": {
    "id": "6CLfBV9nimvX"
   },
   "source": [
    "## Split the data into train and test\n",
    "sql_create_context_v4.json is a big json file with ~78k sql and captions. Lets split it into sql_test.jsonl and sql_train.jsonl. Also Mistral needs the input into certain jsonl format. JSONL is a text file where every line is a json record.\n",
    "Format required for Mistral is like below.\n"
   ]
  },
  {
   "cell_type": "code",
   "execution_count": 10,
   "metadata": {
    "colab": {
     "base_uri": "https://localhost:8080/"
    },
    "id": "0Drt-J8LjTPX",
    "outputId": "5377b6f7-4f57-433b-ccf0-6a04313751c3"
   },
   "outputs": [
    {
     "data": {
      "text/plain": [
       "{'messages': [{'role': 'user',\n",
       "   'content': 'context: CREATE TABLE table_1973842_1 (type VARCHAR, location VARCHAR); question: What type is the school located in Macon, Georgia?'},\n",
       "  {'role': 'assistant',\n",
       "   'content': 'SELECT type FROM table_1973842_1 WHERE location = \"Macon, Georgia\"'}]}"
      ]
     },
     "execution_count": 10,
     "metadata": {},
     "output_type": "execute_result"
    }
   ],
   "source": [
    "{\"messages\": [{\"role\": \"user\", \"content\": \"context: CREATE TABLE table_1973842_1 (type VARCHAR, location VARCHAR); question: What type is the school located in Macon, Georgia?\"}, {\"role\": \"assistant\", \"content\": \"SELECT type FROM table_1973842_1 WHERE location = \\\"Macon, Georgia\\\"\"}]}"
   ]
  },
  {
   "cell_type": "markdown",
   "metadata": {
    "id": "pjRmrbtBjtl0"
   },
   "source": [
    "### Function to split the list into train/test"
   ]
  },
  {
   "cell_type": "code",
   "execution_count": 11,
   "metadata": {
    "id": "peDhXMY9jmjP"
   },
   "outputs": [],
   "source": [
    "seed = 42\n",
    "import random\n",
    "import json\n",
    "def split_list(input_list, split_ratio=0.9, seed=seed):\n",
    "    if seed is not None:\n",
    "        random.seed(seed)\n",
    "\n",
    "    shuffled_list = input_list.copy()\n",
    "    random.shuffle(shuffled_list)\n",
    "    split_index = int(len(shuffled_list) * split_ratio)\n",
    "    train_set = shuffled_list[:split_index]\n",
    "    test_set = shuffled_list[split_index:]\n",
    "\n",
    "    return train_set, test_set"
   ]
  },
  {
   "cell_type": "markdown",
   "metadata": {
    "id": "tHXSeQVGjxqG"
   },
   "source": [
    "### Function to create a JSONL record"
   ]
  },
  {
   "cell_type": "code",
   "execution_count": 12,
   "metadata": {
    "id": "VCmdrPhRjoji"
   },
   "outputs": [],
   "source": [
    "def write_prompt(que, file):\n",
    "    q = que[\"question\"]\n",
    "    c = que[\"context\"]\n",
    "    a = que[\"answer\"]\n",
    "    line = {\"messages\": [{\"role\": \"user\", \"content\": f\"context: {c}; question: {q}\"}, {\"role\": \"assistant\", \"content\": a}]}\n",
    "    file.write(json.dumps(line) + \"\\n\")\n"
   ]
  },
  {
   "cell_type": "markdown",
   "metadata": {
    "id": "8y-aXnnRkUrt"
   },
   "source": [
    "### Using above functions, lets create files in data directory"
   ]
  },
  {
   "cell_type": "code",
   "execution_count": 13,
   "metadata": {
    "colab": {
     "base_uri": "https://localhost:8080/",
     "height": 81,
     "referenced_widgets": [
      "068730b834d447e887b25c4b82fa507c",
      "3c6be7284d6243d185abba2406fa0093",
      "7e3c0f221964437a8f7fe9b4233dbe5d",
      "fc89cedb57ef43c78b0f304c9bac1b84",
      "2eec8143346b4a8b80616c2bb30784a6",
      "081029f0ee4f4e7bb52cbdc5b159a1fb",
      "ec0d2b610a5741d7aaf2c07b781a4889",
      "41467e15f7cd481cb459f8097377197c",
      "92daef65181a429599ba3fe0c44d5bde",
      "1e929e25a1e040e7959b7e24e960bbd7",
      "a6157862c10647f1b3bca2da8d434366",
      "1dec29e9433f48a48f8a152fba0051ae",
      "8a14cc31b37e4d3885f4b1697014f538",
      "74a899d522a64ebabf818bcbfd9820b8",
      "dcd827050593467897092b3dd242f7ac",
      "e5ac738f8c7c45a6b598fcb860957c32",
      "a19555869f2142c9bbc89a0cfe4a8745",
      "a697cab8504847389c532fd54afc2643",
      "ba95d09a908a44d2bab20adeabc06074",
      "477de7b0e385420fbebfdccadf78fe39",
      "476627f6dc4240b6bdf612598166bccf",
      "af5fd4bd052a452ea872fb3c988f4c86"
     ]
    },
    "id": "KDzpnElOjsH4",
    "outputId": "b567c96f-7f0e-47d9-f1e9-a583084d8674"
   },
   "outputs": [
    {
     "data": {
      "application/vnd.jupyter.widget-view+json": {
       "model_id": "068730b834d447e887b25c4b82fa507c",
       "version_major": 2,
       "version_minor": 0
      },
      "text/plain": [
       "Processing Training Set:   0%|          | 0/70719 [00:00<?, ?it/s]"
      ]
     },
     "metadata": {},
     "output_type": "display_data"
    },
    {
     "data": {
      "application/vnd.jupyter.widget-view+json": {
       "model_id": "1dec29e9433f48a48f8a152fba0051ae",
       "version_major": 2,
       "version_minor": 0
      },
      "text/plain": [
       "Processing Test Set:   0%|          | 0/7858 [00:00<?, ?it/s]"
      ]
     },
     "metadata": {},
     "output_type": "display_data"
    }
   ],
   "source": [
    "from tqdm.notebook import tqdm\n",
    "import json\n",
    "input_file = \"/content/data/sql_create_context_v4.json\"\n",
    "out_train_file = \"/content/data/sql_train.jsonl\"\n",
    "out_test_file = \"/content/data/sql_test.jsonl\"\n",
    "\n",
    "with open(input_file, \"r\") as jsonf:\n",
    "    questions = json.load(jsonf)\n",
    "    train_split, test_split = split_list([i for i  in range(len(questions))])\n",
    "    with open(out_train_file, 'w') as file:\n",
    "        for que in tqdm(train_split, desc=\"Processing Training Set\"):\n",
    "            write_prompt(questions[que], file)\n",
    "    with open(out_test_file, 'w') as file:\n",
    "        for que in tqdm(test_split, desc=\"Processing Test Set\"):\n",
    "            write_prompt(questions[que], file)"
   ]
  },
  {
   "cell_type": "code",
   "execution_count": 14,
   "metadata": {
    "colab": {
     "base_uri": "https://localhost:8080/"
    },
    "id": "Br2czKwwFLE8",
    "outputId": "70e1d803-7a50-45d4-9a0f-463adea03697"
   },
   "outputs": [
    {
     "name": "stdout",
     "output_type": "stream",
     "text": [
      "/content/data\n",
      "sql_create_context_v4.json  sql_test.jsonl  sql_train.jsonl\n"
     ]
    }
   ],
   "source": [
    "# navigate to this data directory\n",
    "%cd /content/data\n",
    "%ls"
   ]
  },
  {
   "cell_type": "code",
   "execution_count": 15,
   "metadata": {
    "colab": {
     "base_uri": "https://localhost:8080/"
    },
    "id": "YIK0VFXHIn8r",
    "outputId": "e1057e01-09c0-48e2-f8c2-a5045764392a"
   },
   "outputs": [
    {
     "name": "stdout",
     "output_type": "stream",
     "text": [
      "/content/mistral-finetune\n"
     ]
    }
   ],
   "source": [
    "# navigate to the mistral-finetune directory\n",
    "%cd /content/mistral-finetune/"
   ]
  },
  {
   "cell_type": "code",
   "execution_count": 16,
   "metadata": {
    "id": "vLHNxpN4GS3i"
   },
   "outputs": [],
   "source": [
    "# some of the training data doesn't have the right format,\n",
    "# so we need to reformat the data into the correct format and skip the cases that don't have the right format:\n",
    "\n",
    "!python -m utils.reformat_data /content/data/sql_train.jsonl"
   ]
  },
  {
   "cell_type": "code",
   "execution_count": 17,
   "metadata": {
    "id": "RscZFo7tGvzS"
   },
   "outputs": [],
   "source": [
    "# eval data looks all good\n",
    "!python -m utils.reformat_data /content/data/sql_test.jsonl"
   ]
  },
  {
   "cell_type": "markdown",
   "metadata": {
    "id": "Hia7n0T1_mHZ"
   },
   "source": [
    "## Training\n",
    "Below is the torchrun config yaml. I liked small yaml than hardcoding things in code. Torchrun also allows you to run it on multi-gpu environment."
   ]
  },
  {
   "cell_type": "code",
   "execution_count": 18,
   "metadata": {
    "id": "ZtcLerooWFeB"
   },
   "outputs": [],
   "source": [
    "# these info is needed for training\n",
    "import os\n",
    "os.environ[\"CUDA_DEVICE_ORDER\"]=\"PCI_BUS_ID\"\n",
    "os.environ[\"CUDA_VISIBLE_DEVICES\"]=\"0\""
   ]
  },
  {
   "cell_type": "code",
   "execution_count": 19,
   "metadata": {
    "id": "5dxTlIQMaJGv"
   },
   "outputs": [],
   "source": [
    "# define training configuration\n",
    "# for your own use cases, you might want to change the data paths, model path, run_dir, and other hyperparameters\n",
    "\n",
    "config = \"\"\"\n",
    "# data\n",
    "data:\n",
    "  instruct_data: \"/content/data/sql_train.jsonl\"  # Fill\n",
    "  data: \"\"  # Optionally fill with pretraining data\n",
    "  eval_instruct_data: \"/content/data/sql_test.jsonl\"  # Optionally fill\n",
    "\n",
    "# model\n",
    "model_id_or_path: \"/content/mistral_models\"  # Change to downloaded path\n",
    "lora:\n",
    "  rank: 64\n",
    "\n",
    "seq_len: 8192\n",
    "batch_size: 2\n",
    "num_microbatches: 2\n",
    "max_steps: 100\n",
    "optim:\n",
    "  lr: 1.e-4\n",
    "  weight_decay: 0.1\n",
    "  pct_start: 0.05\n",
    "\n",
    "seed: 0\n",
    "log_freq: 1\n",
    "eval_freq: 100\n",
    "no_eval: False\n",
    "ckpt_freq: 100\n",
    "\n",
    "save_adapters: True  # save only trained LoRA adapters. Set to `False` to merge LoRA adapter into the base model and save full fine-tuned model\n",
    "\n",
    "run_dir: \"/content/test_sql\"  # Fill\n",
    "\"\"\"\n",
    "\n",
    "# save the same file locally into the example.yaml file\n",
    "import yaml\n",
    "with open('example.yaml', 'w') as file:\n",
    "    yaml.dump(yaml.safe_load(config), file)\n"
   ]
  },
  {
   "cell_type": "code",
   "execution_count": 20,
   "metadata": {
    "id": "r-mUXxhXq7-E"
   },
   "outputs": [],
   "source": [
    "#If training Fails, you need to uncomment below remove this directory and start again.\n",
    "#!rm -rf /content/test_sql"
   ]
  },
  {
   "cell_type": "code",
   "execution_count": 21,
   "metadata": {
    "colab": {
     "base_uri": "https://localhost:8080/"
    },
    "id": "e4wFgmwIUTtg",
    "outputId": "f7a651f2-67d0-4812-ffb7-4145262f4310"
   },
   "outputs": [
    {
     "name": "stdout",
     "output_type": "stream",
     "text": [
      "The cache for model files in Transformers v4.22.0 has been updated. Migrating your old cache. This is a one-time only operation. You can interrupt this and resume the migration later on by calling `transformers.utils.move_cache()`.\n",
      "0it [00:00, ?it/s]\n",
      "2024-08-21 23:02:10.899264: I tensorflow/core/util/port.cc:153] oneDNN custom operations are on. You may see slightly different numerical results due to floating-point round-off errors from different computation orders. To turn them off, set the environment variable `TF_ENABLE_ONEDNN_OPTS=0`.\n",
      "2024-08-21 23:02:10.917347: E external/local_xla/xla/stream_executor/cuda/cuda_fft.cc:485] Unable to register cuFFT factory: Attempting to register factory for plugin cuFFT when one has already been registered\n",
      "2024-08-21 23:02:10.939455: E external/local_xla/xla/stream_executor/cuda/cuda_dnn.cc:8454] Unable to register cuDNN factory: Attempting to register factory for plugin cuDNN when one has already been registered\n",
      "2024-08-21 23:02:10.946057: E external/local_xla/xla/stream_executor/cuda/cuda_blas.cc:1452] Unable to register cuBLAS factory: Attempting to register factory for plugin cuBLAS when one has already been registered\n",
      "2024-08-21 23:02:10.962050: I tensorflow/core/platform/cpu_feature_guard.cc:210] This TensorFlow binary is optimized to use available CPU instructions in performance-critical operations.\n",
      "To enable the following instructions: AVX2 AVX512F AVX512_VNNI FMA, in other operations, rebuild TensorFlow with the appropriate compiler flags.\n",
      "2024-08-21 23:02:12.095860: W tensorflow/compiler/tf2tensorrt/utils/py_utils.cc:38] TF-TRT Warning: Could not find TensorRT\n",
      "args: TrainArgs(data=DataArgs(data='', shuffle=False, instruct_data='/content/data/sql_train.jsonl', eval_instruct_data='/content/data/sql_test.jsonl', instruct=InstructArgs(shuffle=True, dynamic_chunk_fn_call=True)), model_id_or_path='/content/mistral_models', run_dir='/content/test_sql', optim=OptimArgs(lr=0.0001, weight_decay=0.1, pct_start=0.05), seed=0, num_microbatches=2, seq_len=8192, batch_size=2, max_norm=1.0, max_steps=100, log_freq=1, ckpt_freq=100, save_adapters=True, no_ckpt=False, num_ckpt_keep=3, eval_freq=100, no_eval=False, checkpoint=True, world_size=1, wandb=WandbArgs(project=None, offline=False, key=None, run_name=None), mlflow=MLFlowArgs(tracking_uri=None, experiment_name=None), lora=LoraArgs(enable=True, rank=64, dropout=0.0, scaling=2.0))\n",
      "2024-08-21 23:02:13 (UTC) - 0:00:06 - distributed - INFO - torch.cuda.device_count: 1\n",
      "2024-08-21 23:02:13 (UTC) - 0:00:06 - distributed - INFO - CUDA_VISIBLE_DEVICES: 0\n",
      "2024-08-21 23:02:13 (UTC) - 0:00:06 - distributed - INFO - local rank: 0\n",
      "2024-08-21 23:02:13 (UTC) - 0:00:06 - train - INFO - Going to init comms...\n",
      "2024-08-21 23:02:13 (UTC) - 0:00:06 - train - INFO - Run dir: /content/test_sql\n",
      "2024-08-21 23:02:13 (UTC) - 0:00:07 - train - INFO - TrainArgs: {'batch_size': 2,\n",
      " 'checkpoint': True,\n",
      " 'ckpt_freq': 100,\n",
      " 'data': {'data': '',\n",
      "          'eval_instruct_data': '/content/data/sql_test.jsonl',\n",
      "          'instruct': {'dynamic_chunk_fn_call': True, 'shuffle': True},\n",
      "          'instruct_data': '/content/data/sql_train.jsonl',\n",
      "          'shuffle': False},\n",
      " 'eval_freq': 100,\n",
      " 'log_freq': 1,\n",
      " 'lora': {'dropout': 0.0, 'enable': True, 'rank': 64, 'scaling': 2.0},\n",
      " 'max_norm': 1.0,\n",
      " 'max_steps': 100,\n",
      " 'mlflow': {'experiment_name': None, 'tracking_uri': None},\n",
      " 'model_id_or_path': '/content/mistral_models',\n",
      " 'no_ckpt': False,\n",
      " 'no_eval': False,\n",
      " 'num_ckpt_keep': 3,\n",
      " 'num_microbatches': 2,\n",
      " 'optim': {'lr': 0.0001, 'pct_start': 0.05, 'weight_decay': 0.1},\n",
      " 'run_dir': '/content/test_sql',\n",
      " 'save_adapters': True,\n",
      " 'seed': 0,\n",
      " 'seq_len': 8192,\n",
      " 'wandb': {'key': None, 'offline': False, 'project': None, 'run_name': None},\n",
      " 'world_size': 1}\n",
      "2024-08-21 23:02:15 (UTC) - 0:00:09 - finetune.wrapped_model - INFO - Reloading model from /content/mistral_models/consolidated.safetensors ...\n",
      "2024-08-21 23:02:15 (UTC) - 0:00:09 - finetune.wrapped_model - INFO - Converting model to dtype torch.bfloat16 ...\n",
      "2024-08-21 23:02:15 (UTC) - 0:00:09 - finetune.wrapped_model - INFO - Loaded model on cpu!\n",
      "2024-08-21 23:02:15 (UTC) - 0:00:09 - finetune.wrapped_model - INFO - Initializing lora layers ...\n",
      "2024-08-21 23:02:16 (UTC) - 0:00:10 - finetune.wrapped_model - INFO - Finished initialization!\n",
      "2024-08-21 23:02:16 (UTC) - 0:00:10 - finetune.wrapped_model - INFO - Sharding model over 1 GPUs ...\n",
      "2024-08-21 23:02:21 (UTC) - 0:00:14 - finetune.wrapped_model - INFO - Model sharded!\n",
      "2024-08-21 23:02:21 (UTC) - 0:00:14 - finetune.wrapped_model - INFO - 167,772,160 out of 7,415,795,712 parameters are finetuned (2.26%).\n",
      "2024-08-21 23:02:21 (UTC) - 0:00:15 - dataset - INFO - Loading /content/data/sql_train.jsonl ...\n",
      "2024-08-21 23:02:39 (UTC) - 0:00:33 - dataset - INFO - /content/data/sql_train.jsonl loaded and tokenized.\n",
      "2024-08-21 23:02:39 (UTC) - 0:00:33 - dataset - INFO - Shuffling /content/data/sql_train.jsonl ...\n",
      "2024-08-21 23:02:49 (UTC) - 0:00:42 - train - INFO - step: 000001 - done (%): 1.0 - loss: 0.757 - lr: 4.0e-06 - peak_alloc_mem (GB): 27.1 - alloc_mem (GB): 18.1 - words_per_second: 1195.4 - avg_words_per_second: 1195.4 - ETA: >2024-08-21 23:48:03\n",
      "2024-08-21 23:02:57 (UTC) - 0:00:51 - train - INFO - step: 000002 - done (%): 2.0 - loss: 0.644 - lr: 1.8e-05 - peak_alloc_mem (GB): 28.4 - alloc_mem (GB): 18.1 - words_per_second: 3888.2 - avg_words_per_second: 1828.6 - ETA: >2024-08-21 23:32:13\n",
      "2024-08-21 23:03:06 (UTC) - 0:00:59 - train - INFO - step: 000003 - done (%): 3.0 - loss: 0.391 - lr: 5.2e-05 - peak_alloc_mem (GB): 28.4 - alloc_mem (GB): 18.1 - words_per_second: 3878.3 - avg_words_per_second: 2219.6 - ETA: >2024-08-21 23:26:58\n",
      "2024-08-21 23:03:14 (UTC) - 0:01:08 - train - INFO - step: 000004 - done (%): 4.0 - loss: 0.175 - lr: 8.6e-05 - peak_alloc_mem (GB): 28.4 - alloc_mem (GB): 18.1 - words_per_second: 3874.0 - avg_words_per_second: 2484.9 - ETA: >2024-08-21 23:24:20\n",
      "2024-08-21 23:03:23 (UTC) - 0:01:16 - train - INFO - step: 000005 - done (%): 5.0 - loss: 0.150 - lr: 1.0e-04 - peak_alloc_mem (GB): 28.4 - alloc_mem (GB): 18.1 - words_per_second: 3867.7 - avg_words_per_second: 2676.3 - ETA: >2024-08-21 23:22:46\n",
      "2024-08-21 23:03:31 (UTC) - 0:01:25 - train - INFO - step: 000006 - done (%): 6.0 - loss: 0.159 - lr: 1.0e-04 - peak_alloc_mem (GB): 28.4 - alloc_mem (GB): 18.1 - words_per_second: 3866.8 - avg_words_per_second: 2821.0 - ETA: >2024-08-21 23:21:43\n",
      "2024-08-21 23:03:40 (UTC) - 0:01:33 - train - INFO - step: 000007 - done (%): 7.0 - loss: 0.129 - lr: 1.0e-04 - peak_alloc_mem (GB): 28.4 - alloc_mem (GB): 18.1 - words_per_second: 3866.3 - avg_words_per_second: 2934.4 - ETA: >2024-08-21 23:20:58\n",
      "2024-08-21 23:03:48 (UTC) - 0:01:42 - train - INFO - step: 000008 - done (%): 8.0 - loss: 0.110 - lr: 1.0e-04 - peak_alloc_mem (GB): 28.4 - alloc_mem (GB): 18.1 - words_per_second: 3864.0 - avg_words_per_second: 3025.3 - ETA: >2024-08-21 23:20:25\n",
      "2024-08-21 23:03:57 (UTC) - 0:01:50 - train - INFO - step: 000009 - done (%): 9.0 - loss: 0.123 - lr: 1.0e-04 - peak_alloc_mem (GB): 28.4 - alloc_mem (GB): 18.1 - words_per_second: 3862.0 - avg_words_per_second: 3100.0 - ETA: >2024-08-21 23:19:58\n",
      "2024-08-21 23:04:05 (UTC) - 0:01:58 - train - INFO - step: 000010 - done (%): 10.0 - loss: 0.089 - lr: 9.9e-05 - peak_alloc_mem (GB): 28.4 - alloc_mem (GB): 18.1 - words_per_second: 3861.2 - avg_words_per_second: 3162.3 - ETA: >2024-08-21 23:19:38\n",
      "2024-08-21 23:04:14 (UTC) - 0:02:07 - train - INFO - step: 000011 - done (%): 11.0 - loss: 0.081 - lr: 9.9e-05 - peak_alloc_mem (GB): 28.4 - alloc_mem (GB): 18.1 - words_per_second: 3858.8 - avg_words_per_second: 3215.1 - ETA: >2024-08-21 23:19:21\n",
      "2024-08-21 23:04:22 (UTC) - 0:02:15 - train - INFO - step: 000012 - done (%): 12.0 - loss: 0.073 - lr: 9.9e-05 - peak_alloc_mem (GB): 28.4 - alloc_mem (GB): 18.1 - words_per_second: 3859.8 - avg_words_per_second: 3260.4 - ETA: >2024-08-21 23:19:06\n",
      "2024-08-21 23:04:31 (UTC) - 0:02:24 - train - INFO - step: 000013 - done (%): 13.0 - loss: 0.073 - lr: 9.8e-05 - peak_alloc_mem (GB): 28.4 - alloc_mem (GB): 18.1 - words_per_second: 3858.3 - avg_words_per_second: 3299.8 - ETA: >2024-08-21 23:18:54\n",
      "2024-08-21 23:04:39 (UTC) - 0:02:32 - train - INFO - step: 000014 - done (%): 14.0 - loss: 0.062 - lr: 9.8e-05 - peak_alloc_mem (GB): 28.4 - alloc_mem (GB): 18.1 - words_per_second: 3858.0 - avg_words_per_second: 3334.2 - ETA: >2024-08-21 23:18:44\n",
      "2024-08-21 23:04:48 (UTC) - 0:02:41 - train - INFO - step: 000015 - done (%): 15.0 - loss: 0.068 - lr: 9.7e-05 - peak_alloc_mem (GB): 28.4 - alloc_mem (GB): 18.1 - words_per_second: 3855.7 - avg_words_per_second: 3364.6 - ETA: >2024-08-21 23:18:35\n",
      "2024-08-21 23:04:56 (UTC) - 0:02:49 - train - INFO - step: 000016 - done (%): 16.0 - loss: 0.062 - lr: 9.7e-05 - peak_alloc_mem (GB): 28.4 - alloc_mem (GB): 18.1 - words_per_second: 3854.3 - avg_words_per_second: 3391.5 - ETA: >2024-08-21 23:18:28\n",
      "2024-08-21 23:05:05 (UTC) - 0:02:58 - train - INFO - step: 000017 - done (%): 17.0 - loss: 0.048 - lr: 9.6e-05 - peak_alloc_mem (GB): 28.4 - alloc_mem (GB): 18.1 - words_per_second: 3739.7 - avg_words_per_second: 3410.2 - ETA: >2024-08-21 23:18:22\n",
      "2024-08-21 23:05:13 (UTC) - 0:03:07 - train - INFO - step: 000018 - done (%): 18.0 - loss: 0.049 - lr: 9.5e-05 - peak_alloc_mem (GB): 28.4 - alloc_mem (GB): 18.1 - words_per_second: 3857.1 - avg_words_per_second: 3432.3 - ETA: >2024-08-21 23:18:16\n",
      "2024-08-21 23:05:22 (UTC) - 0:03:15 - train - INFO - step: 000019 - done (%): 19.0 - loss: 0.071 - lr: 9.5e-05 - peak_alloc_mem (GB): 28.4 - alloc_mem (GB): 18.1 - words_per_second: 3855.3 - avg_words_per_second: 3452.2 - ETA: >2024-08-21 23:18:11\n",
      "2024-08-21 23:05:30 (UTC) - 0:03:24 - train - INFO - step: 000020 - done (%): 20.0 - loss: 0.080 - lr: 9.4e-05 - peak_alloc_mem (GB): 28.4 - alloc_mem (GB): 18.1 - words_per_second: 3855.7 - avg_words_per_second: 3470.4 - ETA: >2024-08-21 23:18:06\n",
      "2024-08-21 23:05:39 (UTC) - 0:03:32 - train - INFO - step: 000021 - done (%): 21.0 - loss: 0.053 - lr: 9.3e-05 - peak_alloc_mem (GB): 28.4 - alloc_mem (GB): 18.1 - words_per_second: 3855.5 - avg_words_per_second: 3487.0 - ETA: >2024-08-21 23:18:01\n",
      "2024-08-21 23:05:47 (UTC) - 0:03:41 - train - INFO - step: 000022 - done (%): 22.0 - loss: 0.051 - lr: 9.2e-05 - peak_alloc_mem (GB): 28.4 - alloc_mem (GB): 18.1 - words_per_second: 3857.7 - avg_words_per_second: 3502.3 - ETA: >2024-08-21 23:17:57\n",
      "2024-08-21 23:05:56 (UTC) - 0:03:49 - train - INFO - step: 000023 - done (%): 23.0 - loss: 0.065 - lr: 9.1e-05 - peak_alloc_mem (GB): 28.4 - alloc_mem (GB): 18.1 - words_per_second: 3857.9 - avg_words_per_second: 3516.4 - ETA: >2024-08-21 23:17:53\n",
      "2024-08-21 23:06:04 (UTC) - 0:03:58 - train - INFO - step: 000024 - done (%): 24.0 - loss: 0.060 - lr: 9.0e-05 - peak_alloc_mem (GB): 28.4 - alloc_mem (GB): 18.1 - words_per_second: 3856.2 - avg_words_per_second: 3529.3 - ETA: >2024-08-21 23:17:50\n",
      "2024-08-21 23:06:13 (UTC) - 0:04:06 - train - INFO - step: 000025 - done (%): 25.0 - loss: 0.055 - lr: 8.9e-05 - peak_alloc_mem (GB): 28.4 - alloc_mem (GB): 18.1 - words_per_second: 3847.7 - avg_words_per_second: 3541.0 - ETA: >2024-08-21 23:17:47\n",
      "2024-08-21 23:06:21 (UTC) - 0:04:15 - train - INFO - step: 000026 - done (%): 26.0 - loss: 0.048 - lr: 8.8e-05 - peak_alloc_mem (GB): 28.4 - alloc_mem (GB): 18.1 - words_per_second: 3855.4 - avg_words_per_second: 3552.2 - ETA: >2024-08-21 23:17:44\n",
      "2024-08-21 23:06:30 (UTC) - 0:04:23 - train - INFO - step: 000027 - done (%): 27.0 - loss: 0.048 - lr: 8.7e-05 - peak_alloc_mem (GB): 28.4 - alloc_mem (GB): 18.1 - words_per_second: 3854.2 - avg_words_per_second: 3562.5 - ETA: >2024-08-21 23:17:41\n",
      "2024-08-21 23:06:38 (UTC) - 0:04:32 - train - INFO - step: 000028 - done (%): 28.0 - loss: 0.054 - lr: 8.6e-05 - peak_alloc_mem (GB): 28.4 - alloc_mem (GB): 18.1 - words_per_second: 3855.7 - avg_words_per_second: 3572.2 - ETA: >2024-08-21 23:17:39\n",
      "2024-08-21 23:06:47 (UTC) - 0:04:40 - train - INFO - step: 000029 - done (%): 29.0 - loss: 0.049 - lr: 8.5e-05 - peak_alloc_mem (GB): 28.4 - alloc_mem (GB): 18.1 - words_per_second: 3854.0 - avg_words_per_second: 3581.2 - ETA: >2024-08-21 23:17:36\n",
      "2024-08-21 23:06:55 (UTC) - 0:04:49 - train - INFO - step: 000030 - done (%): 30.0 - loss: 0.059 - lr: 8.4e-05 - peak_alloc_mem (GB): 28.4 - alloc_mem (GB): 18.1 - words_per_second: 3853.5 - avg_words_per_second: 3589.7 - ETA: >2024-08-21 23:17:34\n",
      "2024-08-21 23:07:04 (UTC) - 0:04:57 - train - INFO - step: 000031 - done (%): 31.0 - loss: 0.045 - lr: 8.3e-05 - peak_alloc_mem (GB): 28.4 - alloc_mem (GB): 18.1 - words_per_second: 3854.4 - avg_words_per_second: 3597.7 - ETA: >2024-08-21 23:17:32\n",
      "2024-08-21 23:07:12 (UTC) - 0:05:06 - train - INFO - step: 000032 - done (%): 32.0 - loss: 0.048 - lr: 8.1e-05 - peak_alloc_mem (GB): 28.4 - alloc_mem (GB): 18.1 - words_per_second: 3856.4 - avg_words_per_second: 3605.2 - ETA: >2024-08-21 23:17:30\n",
      "2024-08-21 23:07:21 (UTC) - 0:05:14 - train - INFO - step: 000033 - done (%): 33.0 - loss: 0.043 - lr: 8.0e-05 - peak_alloc_mem (GB): 28.4 - alloc_mem (GB): 18.1 - words_per_second: 3854.2 - avg_words_per_second: 3612.3 - ETA: >2024-08-21 23:17:29\n",
      "2024-08-21 23:07:29 (UTC) - 0:05:23 - train - INFO - step: 000034 - done (%): 34.0 - loss: 0.057 - lr: 7.9e-05 - peak_alloc_mem (GB): 28.4 - alloc_mem (GB): 18.1 - words_per_second: 3855.9 - avg_words_per_second: 3619.0 - ETA: >2024-08-21 23:17:27\n",
      "2024-08-21 23:07:38 (UTC) - 0:05:31 - train - INFO - step: 000035 - done (%): 35.0 - loss: 0.038 - lr: 7.7e-05 - peak_alloc_mem (GB): 28.4 - alloc_mem (GB): 18.1 - words_per_second: 3853.8 - avg_words_per_second: 3625.3 - ETA: >2024-08-21 23:17:25\n",
      "2024-08-21 23:07:46 (UTC) - 0:05:40 - train - INFO - step: 000036 - done (%): 36.0 - loss: 0.045 - lr: 7.6e-05 - peak_alloc_mem (GB): 28.4 - alloc_mem (GB): 18.1 - words_per_second: 3855.1 - avg_words_per_second: 3631.3 - ETA: >2024-08-21 23:17:24\n",
      "2024-08-21 23:07:55 (UTC) - 0:05:48 - train - INFO - step: 000037 - done (%): 37.0 - loss: 0.046 - lr: 7.5e-05 - peak_alloc_mem (GB): 28.4 - alloc_mem (GB): 18.1 - words_per_second: 3855.1 - avg_words_per_second: 3637.1 - ETA: >2024-08-21 23:17:22\n",
      "2024-08-21 23:08:03 (UTC) - 0:05:57 - train - INFO - step: 000038 - done (%): 38.0 - loss: 0.035 - lr: 7.3e-05 - peak_alloc_mem (GB): 28.4 - alloc_mem (GB): 18.1 - words_per_second: 3854.6 - avg_words_per_second: 3642.5 - ETA: >2024-08-21 23:17:21\n",
      "2024-08-21 23:08:12 (UTC) - 0:06:05 - train - INFO - step: 000039 - done (%): 39.0 - loss: 0.044 - lr: 7.2e-05 - peak_alloc_mem (GB): 28.4 - alloc_mem (GB): 18.1 - words_per_second: 3854.6 - avg_words_per_second: 3647.6 - ETA: >2024-08-21 23:17:20\n",
      "2024-08-21 23:08:20 (UTC) - 0:06:14 - train - INFO - step: 000040 - done (%): 40.0 - loss: 0.049 - lr: 7.0e-05 - peak_alloc_mem (GB): 28.4 - alloc_mem (GB): 18.1 - words_per_second: 3855.9 - avg_words_per_second: 3652.5 - ETA: >2024-08-21 23:17:19\n",
      "2024-08-21 23:08:29 (UTC) - 0:06:22 - train - INFO - step: 000041 - done (%): 41.0 - loss: 0.049 - lr: 6.9e-05 - peak_alloc_mem (GB): 28.4 - alloc_mem (GB): 18.1 - words_per_second: 3853.9 - avg_words_per_second: 3657.2 - ETA: >2024-08-21 23:17:17\n",
      "2024-08-21 23:08:37 (UTC) - 0:06:31 - train - INFO - step: 000042 - done (%): 42.0 - loss: 0.036 - lr: 6.7e-05 - peak_alloc_mem (GB): 28.4 - alloc_mem (GB): 18.1 - words_per_second: 3853.5 - avg_words_per_second: 3661.6 - ETA: >2024-08-21 23:17:16\n",
      "2024-08-21 23:08:46 (UTC) - 0:06:39 - train - INFO - step: 000043 - done (%): 43.0 - loss: 0.046 - lr: 6.5e-05 - peak_alloc_mem (GB): 28.4 - alloc_mem (GB): 18.1 - words_per_second: 3854.0 - avg_words_per_second: 3665.9 - ETA: >2024-08-21 23:17:15\n",
      "2024-08-21 23:08:54 (UTC) - 0:06:48 - train - INFO - step: 000044 - done (%): 44.0 - loss: 0.042 - lr: 6.4e-05 - peak_alloc_mem (GB): 28.4 - alloc_mem (GB): 18.1 - words_per_second: 3855.2 - avg_words_per_second: 3670.0 - ETA: >2024-08-21 23:17:14\n",
      "2024-08-21 23:09:03 (UTC) - 0:06:56 - train - INFO - step: 000045 - done (%): 45.0 - loss: 0.051 - lr: 6.2e-05 - peak_alloc_mem (GB): 28.4 - alloc_mem (GB): 18.1 - words_per_second: 3853.7 - avg_words_per_second: 3673.9 - ETA: >2024-08-21 23:17:13\n",
      "2024-08-21 23:09:11 (UTC) - 0:07:05 - train - INFO - step: 000046 - done (%): 46.0 - loss: 0.044 - lr: 6.1e-05 - peak_alloc_mem (GB): 28.4 - alloc_mem (GB): 18.1 - words_per_second: 3855.3 - avg_words_per_second: 3677.7 - ETA: >2024-08-21 23:17:12\n",
      "2024-08-21 23:09:20 (UTC) - 0:07:13 - train - INFO - step: 000047 - done (%): 47.0 - loss: 0.058 - lr: 5.9e-05 - peak_alloc_mem (GB): 28.4 - alloc_mem (GB): 18.1 - words_per_second: 3854.9 - avg_words_per_second: 3681.3 - ETA: >2024-08-21 23:17:12\n",
      "2024-08-21 23:09:29 (UTC) - 0:07:22 - train - INFO - step: 000048 - done (%): 48.0 - loss: 0.036 - lr: 5.7e-05 - peak_alloc_mem (GB): 28.4 - alloc_mem (GB): 18.1 - words_per_second: 3696.1 - avg_words_per_second: 3681.6 - ETA: >2024-08-21 23:17:12\n",
      "2024-08-21 23:09:37 (UTC) - 0:07:31 - train - INFO - step: 000049 - done (%): 49.0 - loss: 0.030 - lr: 5.6e-05 - peak_alloc_mem (GB): 28.4 - alloc_mem (GB): 18.1 - words_per_second: 3855.4 - avg_words_per_second: 3685.0 - ETA: >2024-08-21 23:17:11\n",
      "2024-08-21 23:09:46 (UTC) - 0:07:39 - train - INFO - step: 000050 - done (%): 50.0 - loss: 0.040 - lr: 5.4e-05 - peak_alloc_mem (GB): 28.4 - alloc_mem (GB): 18.1 - words_per_second: 3855.9 - avg_words_per_second: 3688.2 - ETA: >2024-08-21 23:17:10\n",
      "2024-08-21 23:09:54 (UTC) - 0:07:48 - train - INFO - step: 000051 - done (%): 51.0 - loss: 0.046 - lr: 5.2e-05 - peak_alloc_mem (GB): 28.4 - alloc_mem (GB): 18.1 - words_per_second: 3854.3 - avg_words_per_second: 3691.3 - ETA: >2024-08-21 23:17:09\n",
      "2024-08-21 23:10:03 (UTC) - 0:07:56 - train - INFO - step: 000052 - done (%): 52.0 - loss: 0.043 - lr: 5.1e-05 - peak_alloc_mem (GB): 28.4 - alloc_mem (GB): 18.1 - words_per_second: 3854.6 - avg_words_per_second: 3694.4 - ETA: >2024-08-21 23:17:08\n",
      "2024-08-21 23:10:11 (UTC) - 0:08:05 - train - INFO - step: 000053 - done (%): 53.0 - loss: 0.053 - lr: 4.9e-05 - peak_alloc_mem (GB): 28.4 - alloc_mem (GB): 18.1 - words_per_second: 3855.0 - avg_words_per_second: 3697.3 - ETA: >2024-08-21 23:17:08\n",
      "2024-08-21 23:10:20 (UTC) - 0:08:13 - train - INFO - step: 000054 - done (%): 54.0 - loss: 0.054 - lr: 4.8e-05 - peak_alloc_mem (GB): 28.4 - alloc_mem (GB): 18.1 - words_per_second: 3854.5 - avg_words_per_second: 3700.1 - ETA: >2024-08-21 23:17:07\n",
      "2024-08-21 23:10:28 (UTC) - 0:08:22 - train - INFO - step: 000055 - done (%): 55.0 - loss: 0.045 - lr: 4.6e-05 - peak_alloc_mem (GB): 28.4 - alloc_mem (GB): 18.1 - words_per_second: 3811.8 - avg_words_per_second: 3702.0 - ETA: >2024-08-21 23:17:07\n",
      "2024-08-21 23:10:37 (UTC) - 0:08:30 - train - INFO - step: 000056 - done (%): 56.0 - loss: 0.045 - lr: 4.4e-05 - peak_alloc_mem (GB): 28.4 - alloc_mem (GB): 18.1 - words_per_second: 3852.8 - avg_words_per_second: 3704.6 - ETA: >2024-08-21 23:17:06\n",
      "2024-08-21 23:10:45 (UTC) - 0:08:39 - train - INFO - step: 000057 - done (%): 57.0 - loss: 0.047 - lr: 4.3e-05 - peak_alloc_mem (GB): 28.4 - alloc_mem (GB): 18.1 - words_per_second: 3854.6 - avg_words_per_second: 3707.1 - ETA: >2024-08-21 23:17:05\n",
      "2024-08-21 23:10:54 (UTC) - 0:08:47 - train - INFO - step: 000058 - done (%): 58.0 - loss: 0.038 - lr: 4.1e-05 - peak_alloc_mem (GB): 28.4 - alloc_mem (GB): 18.1 - words_per_second: 3853.9 - avg_words_per_second: 3709.6 - ETA: >2024-08-21 23:17:05\n",
      "2024-08-21 23:11:02 (UTC) - 0:08:56 - train - INFO - step: 000059 - done (%): 59.0 - loss: 0.041 - lr: 3.9e-05 - peak_alloc_mem (GB): 28.4 - alloc_mem (GB): 18.1 - words_per_second: 3854.6 - avg_words_per_second: 3711.9 - ETA: >2024-08-21 23:17:04\n",
      "2024-08-21 23:11:11 (UTC) - 0:09:04 - train - INFO - step: 000060 - done (%): 60.0 - loss: 0.043 - lr: 3.8e-05 - peak_alloc_mem (GB): 28.4 - alloc_mem (GB): 18.1 - words_per_second: 3853.2 - avg_words_per_second: 3714.2 - ETA: >2024-08-21 23:17:04\n",
      "2024-08-21 23:11:19 (UTC) - 0:09:13 - train - INFO - step: 000061 - done (%): 61.0 - loss: 0.035 - lr: 3.6e-05 - peak_alloc_mem (GB): 28.4 - alloc_mem (GB): 18.1 - words_per_second: 3853.8 - avg_words_per_second: 3716.4 - ETA: >2024-08-21 23:17:03\n",
      "2024-08-21 23:11:28 (UTC) - 0:09:21 - train - INFO - step: 000062 - done (%): 62.0 - loss: 0.049 - lr: 3.5e-05 - peak_alloc_mem (GB): 28.4 - alloc_mem (GB): 18.1 - words_per_second: 3854.7 - avg_words_per_second: 3718.6 - ETA: >2024-08-21 23:17:03\n",
      "2024-08-21 23:11:36 (UTC) - 0:09:30 - train - INFO - step: 000063 - done (%): 63.0 - loss: 0.042 - lr: 3.3e-05 - peak_alloc_mem (GB): 28.4 - alloc_mem (GB): 18.1 - words_per_second: 3853.3 - avg_words_per_second: 3720.6 - ETA: >2024-08-21 23:17:02\n",
      "2024-08-21 23:11:45 (UTC) - 0:09:38 - train - INFO - step: 000064 - done (%): 64.0 - loss: 0.029 - lr: 3.1e-05 - peak_alloc_mem (GB): 28.4 - alloc_mem (GB): 18.1 - words_per_second: 3854.3 - avg_words_per_second: 3722.7 - ETA: >2024-08-21 23:17:02\n",
      "2024-08-21 23:11:53 (UTC) - 0:09:47 - train - INFO - step: 000065 - done (%): 65.0 - loss: 0.041 - lr: 3.0e-05 - peak_alloc_mem (GB): 28.4 - alloc_mem (GB): 18.1 - words_per_second: 3853.1 - avg_words_per_second: 3724.6 - ETA: >2024-08-21 23:17:01\n",
      "2024-08-21 23:12:02 (UTC) - 0:09:55 - train - INFO - step: 000066 - done (%): 66.0 - loss: 0.035 - lr: 2.8e-05 - peak_alloc_mem (GB): 28.4 - alloc_mem (GB): 18.1 - words_per_second: 3854.1 - avg_words_per_second: 3726.5 - ETA: >2024-08-21 23:17:01\n",
      "2024-08-21 23:12:10 (UTC) - 0:10:04 - train - INFO - step: 000067 - done (%): 67.0 - loss: 0.041 - lr: 2.7e-05 - peak_alloc_mem (GB): 28.4 - alloc_mem (GB): 18.1 - words_per_second: 3853.4 - avg_words_per_second: 3728.3 - ETA: >2024-08-21 23:17:00\n",
      "2024-08-21 23:12:19 (UTC) - 0:10:12 - train - INFO - step: 000068 - done (%): 68.0 - loss: 0.039 - lr: 2.5e-05 - peak_alloc_mem (GB): 28.4 - alloc_mem (GB): 18.1 - words_per_second: 3855.6 - avg_words_per_second: 3730.1 - ETA: >2024-08-21 23:17:00\n",
      "2024-08-21 23:12:27 (UTC) - 0:10:21 - train - INFO - step: 000069 - done (%): 69.0 - loss: 0.038 - lr: 2.4e-05 - peak_alloc_mem (GB): 28.4 - alloc_mem (GB): 18.1 - words_per_second: 3852.5 - avg_words_per_second: 3731.9 - ETA: >2024-08-21 23:17:00\n",
      "2024-08-21 23:12:36 (UTC) - 0:10:29 - train - INFO - step: 000070 - done (%): 70.0 - loss: 0.043 - lr: 2.3e-05 - peak_alloc_mem (GB): 28.4 - alloc_mem (GB): 18.1 - words_per_second: 3853.9 - avg_words_per_second: 3733.5 - ETA: >2024-08-21 23:16:59\n",
      "2024-08-21 23:12:44 (UTC) - 0:10:38 - train - INFO - step: 000071 - done (%): 71.0 - loss: 0.046 - lr: 2.1e-05 - peak_alloc_mem (GB): 28.4 - alloc_mem (GB): 18.1 - words_per_second: 3852.2 - avg_words_per_second: 3735.2 - ETA: >2024-08-21 23:16:59\n",
      "2024-08-21 23:12:53 (UTC) - 0:10:46 - train - INFO - step: 000072 - done (%): 72.0 - loss: 0.045 - lr: 2.0e-05 - peak_alloc_mem (GB): 28.4 - alloc_mem (GB): 18.1 - words_per_second: 3854.8 - avg_words_per_second: 3736.8 - ETA: >2024-08-21 23:16:58\n",
      "2024-08-21 23:13:01 (UTC) - 0:10:55 - train - INFO - step: 000073 - done (%): 73.0 - loss: 0.031 - lr: 1.9e-05 - peak_alloc_mem (GB): 28.4 - alloc_mem (GB): 18.1 - words_per_second: 3855.1 - avg_words_per_second: 3738.3 - ETA: >2024-08-21 23:16:58\n",
      "2024-08-21 23:13:10 (UTC) - 0:11:03 - train - INFO - step: 000074 - done (%): 74.0 - loss: 0.038 - lr: 1.7e-05 - peak_alloc_mem (GB): 28.4 - alloc_mem (GB): 18.1 - words_per_second: 3852.9 - avg_words_per_second: 3739.8 - ETA: >2024-08-21 23:16:58\n",
      "2024-08-21 23:13:18 (UTC) - 0:11:12 - train - INFO - step: 000075 - done (%): 75.0 - loss: 0.041 - lr: 1.6e-05 - peak_alloc_mem (GB): 28.4 - alloc_mem (GB): 18.1 - words_per_second: 3852.9 - avg_words_per_second: 3741.3 - ETA: >2024-08-21 23:16:57\n",
      "2024-08-21 23:13:27 (UTC) - 0:11:20 - train - INFO - step: 000076 - done (%): 76.0 - loss: 0.025 - lr: 1.5e-05 - peak_alloc_mem (GB): 28.4 - alloc_mem (GB): 18.1 - words_per_second: 3852.3 - avg_words_per_second: 3742.7 - ETA: >2024-08-21 23:16:57\n",
      "2024-08-21 23:13:35 (UTC) - 0:11:29 - train - INFO - step: 000077 - done (%): 77.0 - loss: 0.042 - lr: 1.4e-05 - peak_alloc_mem (GB): 28.4 - alloc_mem (GB): 18.1 - words_per_second: 3854.8 - avg_words_per_second: 3744.1 - ETA: >2024-08-21 23:16:57\n",
      "2024-08-21 23:13:44 (UTC) - 0:11:37 - train - INFO - step: 000078 - done (%): 78.0 - loss: 0.040 - lr: 1.3e-05 - peak_alloc_mem (GB): 28.4 - alloc_mem (GB): 18.1 - words_per_second: 3826.3 - avg_words_per_second: 3745.2 - ETA: >2024-08-21 23:16:56\n",
      "2024-08-21 23:13:53 (UTC) - 0:11:46 - train - INFO - step: 000079 - done (%): 79.0 - loss: 0.046 - lr: 1.2e-05 - peak_alloc_mem (GB): 28.4 - alloc_mem (GB): 18.1 - words_per_second: 3852.5 - avg_words_per_second: 3746.5 - ETA: >2024-08-21 23:16:56\n",
      "2024-08-21 23:14:01 (UTC) - 0:11:54 - train - INFO - step: 000080 - done (%): 80.0 - loss: 0.040 - lr: 1.1e-05 - peak_alloc_mem (GB): 28.4 - alloc_mem (GB): 18.1 - words_per_second: 3855.6 - avg_words_per_second: 3747.8 - ETA: >2024-08-21 23:16:56\n",
      "2024-08-21 23:14:10 (UTC) - 0:12:03 - train - INFO - step: 000081 - done (%): 81.0 - loss: 0.036 - lr: 9.5e-06 - peak_alloc_mem (GB): 28.4 - alloc_mem (GB): 18.1 - words_per_second: 3853.9 - avg_words_per_second: 3749.1 - ETA: >2024-08-21 23:16:56\n",
      "2024-08-21 23:14:18 (UTC) - 0:12:11 - train - INFO - step: 000082 - done (%): 82.0 - loss: 0.040 - lr: 8.6e-06 - peak_alloc_mem (GB): 28.4 - alloc_mem (GB): 18.1 - words_per_second: 3853.6 - avg_words_per_second: 3750.3 - ETA: >2024-08-21 23:16:55\n",
      "2024-08-21 23:14:27 (UTC) - 0:12:20 - train - INFO - step: 000083 - done (%): 83.0 - loss: 0.023 - lr: 7.7e-06 - peak_alloc_mem (GB): 28.4 - alloc_mem (GB): 18.1 - words_per_second: 3854.0 - avg_words_per_second: 3751.6 - ETA: >2024-08-21 23:16:55\n",
      "2024-08-21 23:14:35 (UTC) - 0:12:28 - train - INFO - step: 000084 - done (%): 84.0 - loss: 0.043 - lr: 6.8e-06 - peak_alloc_mem (GB): 28.4 - alloc_mem (GB): 18.1 - words_per_second: 3853.2 - avg_words_per_second: 3752.7 - ETA: >2024-08-21 23:16:55\n",
      "2024-08-21 23:14:44 (UTC) - 0:12:37 - train - INFO - step: 000085 - done (%): 85.0 - loss: 0.042 - lr: 6.0e-06 - peak_alloc_mem (GB): 28.4 - alloc_mem (GB): 18.1 - words_per_second: 3855.4 - avg_words_per_second: 3753.9 - ETA: >2024-08-21 23:16:54\n",
      "2024-08-21 23:14:52 (UTC) - 0:12:45 - train - INFO - step: 000086 - done (%): 86.0 - loss: 0.037 - lr: 5.3e-06 - peak_alloc_mem (GB): 28.4 - alloc_mem (GB): 18.1 - words_per_second: 3852.7 - avg_words_per_second: 3755.0 - ETA: >2024-08-21 23:16:54\n",
      "2024-08-21 23:15:01 (UTC) - 0:12:54 - train - INFO - step: 000087 - done (%): 87.0 - loss: 0.035 - lr: 4.6e-06 - peak_alloc_mem (GB): 28.4 - alloc_mem (GB): 18.1 - words_per_second: 3853.2 - avg_words_per_second: 3756.1 - ETA: >2024-08-21 23:16:54\n",
      "2024-08-21 23:15:09 (UTC) - 0:13:02 - train - INFO - step: 000088 - done (%): 88.0 - loss: 0.028 - lr: 3.9e-06 - peak_alloc_mem (GB): 28.4 - alloc_mem (GB): 18.1 - words_per_second: 3853.9 - avg_words_per_second: 3757.2 - ETA: >2024-08-21 23:16:54\n",
      "2024-08-21 23:15:18 (UTC) - 0:13:11 - train - INFO - step: 000089 - done (%): 89.0 - loss: 0.044 - lr: 3.3e-06 - peak_alloc_mem (GB): 28.4 - alloc_mem (GB): 18.1 - words_per_second: 3854.8 - avg_words_per_second: 3758.3 - ETA: >2024-08-21 23:16:53\n",
      "2024-08-21 23:15:26 (UTC) - 0:13:19 - train - INFO - step: 000090 - done (%): 90.0 - loss: 0.037 - lr: 2.7e-06 - peak_alloc_mem (GB): 28.4 - alloc_mem (GB): 18.1 - words_per_second: 3852.8 - avg_words_per_second: 3759.3 - ETA: >2024-08-21 23:16:53\n",
      "2024-08-21 23:15:35 (UTC) - 0:13:28 - train - INFO - step: 000091 - done (%): 91.0 - loss: 0.037 - lr: 2.2e-06 - peak_alloc_mem (GB): 28.4 - alloc_mem (GB): 18.1 - words_per_second: 3854.2 - avg_words_per_second: 3760.3 - ETA: >2024-08-21 23:16:53\n",
      "2024-08-21 23:15:43 (UTC) - 0:13:36 - train - INFO - step: 000092 - done (%): 92.0 - loss: 0.037 - lr: 1.7e-06 - peak_alloc_mem (GB): 28.4 - alloc_mem (GB): 18.1 - words_per_second: 3855.2 - avg_words_per_second: 3761.3 - ETA: >2024-08-21 23:16:53\n",
      "2024-08-21 23:15:52 (UTC) - 0:13:45 - train - INFO - step: 000093 - done (%): 93.0 - loss: 0.038 - lr: 1.3e-06 - peak_alloc_mem (GB): 28.4 - alloc_mem (GB): 18.1 - words_per_second: 3855.4 - avg_words_per_second: 3762.3 - ETA: >2024-08-21 23:16:53\n",
      "2024-08-21 23:16:00 (UTC) - 0:13:53 - train - INFO - step: 000094 - done (%): 94.0 - loss: 0.037 - lr: 9.8e-07 - peak_alloc_mem (GB): 28.4 - alloc_mem (GB): 18.1 - words_per_second: 3852.2 - avg_words_per_second: 3763.2 - ETA: >2024-08-21 23:16:52\n",
      "2024-08-21 23:16:09 (UTC) - 0:14:02 - train - INFO - step: 000095 - done (%): 95.0 - loss: 0.043 - lr: 6.8e-07 - peak_alloc_mem (GB): 28.4 - alloc_mem (GB): 18.1 - words_per_second: 3856.0 - avg_words_per_second: 3764.2 - ETA: >2024-08-21 23:16:52\n",
      "2024-08-21 23:16:17 (UTC) - 0:14:10 - train - INFO - step: 000096 - done (%): 96.0 - loss: 0.033 - lr: 4.4e-07 - peak_alloc_mem (GB): 28.4 - alloc_mem (GB): 18.1 - words_per_second: 3856.1 - avg_words_per_second: 3765.1 - ETA: >2024-08-21 23:16:52\n",
      "2024-08-21 23:16:26 (UTC) - 0:14:19 - train - INFO - step: 000097 - done (%): 97.0 - loss: 0.033 - lr: 2.5e-07 - peak_alloc_mem (GB): 28.4 - alloc_mem (GB): 18.1 - words_per_second: 3855.0 - avg_words_per_second: 3766.0 - ETA: >2024-08-21 23:16:52\n",
      "2024-08-21 23:16:34 (UTC) - 0:14:27 - train - INFO - step: 000098 - done (%): 98.0 - loss: 0.037 - lr: 1.1e-07 - peak_alloc_mem (GB): 28.4 - alloc_mem (GB): 18.1 - words_per_second: 3853.8 - avg_words_per_second: 3766.9 - ETA: >2024-08-21 23:16:51\n",
      "2024-08-21 23:16:43 (UTC) - 0:14:36 - train - INFO - step: 000099 - done (%): 99.0 - loss: 0.039 - lr: 2.8e-08 - peak_alloc_mem (GB): 28.4 - alloc_mem (GB): 18.1 - words_per_second: 3855.1 - avg_words_per_second: 3767.8 - ETA: >2024-08-21 23:16:51\n",
      "2024-08-21 23:16:51 (UTC) - 0:14:44 - eval - INFO - Start eval...\n",
      "2024-08-21 23:17:43 (UTC) - 0:15:36 - eval - INFO - Eval finished!\n",
      "2024-08-21 23:17:43 (UTC) - 0:15:36 - train - INFO - step: 000100 - eval_perplexity: 1.026 - eval_loss: 0.038 - train_loss: 0.040\n",
      "2024-08-21 23:17:43 (UTC) - 0:15:36 - train - INFO - step: 000100 - done (%): 100.0 - loss: 0.040 - lr: 4.0e-10 - peak_alloc_mem (GB): 28.4 - alloc_mem (GB): 18.1 - words_per_second: 541.8 - avg_words_per_second: 3556.0 - ETA: >2024-08-21 23:17:43\n",
      "2024-08-21 23:17:43 (UTC) - 0:15:36 - checkpointing - INFO - Dumping checkpoint in /content/test_sql/checkpoints/checkpoint_000100/consolidated using tmp name: tmp.consolidated\n",
      "2024-08-21 23:17:44 (UTC) - 0:15:37 - checkpointing - INFO - Done dumping checkpoint in /content/test_sql/checkpoints/checkpoint_000100/consolidated for step: 100\n",
      "2024-08-21 23:17:44 (UTC) - 0:15:37 - checkpointing - INFO - Done deleting checkpoints \n",
      "2024-08-21 23:17:44 (UTC) - 0:15:37 - checkpointing - INFO - Done!\n",
      "2024-08-21 23:17:44 (UTC) - 0:15:37 - train - INFO - done!\n",
      "2024-08-21 23:17:44 (UTC) - 0:15:37 - utils - INFO - Closing: eval_logger\n",
      "2024-08-21 23:17:44 (UTC) - 0:15:37 - utils - INFO - Closed: eval_logger\n",
      "2024-08-21 23:17:44 (UTC) - 0:15:37 - utils - INFO - Closing: metrics_logger\n",
      "2024-08-21 23:17:44 (UTC) - 0:15:37 - utils - INFO - Closed: metrics_logger\n",
      "2024-08-21 23:17:44 (UTC) - 0:15:37 - train - INFO - Closed everything!\n"
     ]
    }
   ],
   "source": [
    "# train\n",
    "\n",
    "!rm -rf /content/test_sql\n",
    "\n",
    "!torchrun --nproc-per-node 1 -m train example.yaml"
   ]
  },
  {
   "cell_type": "markdown",
   "metadata": {
    "id": "ruJ29JFn98zE"
   },
   "source": [
    "## Evaluation"
   ]
  },
  {
   "cell_type": "code",
   "execution_count": 22,
   "metadata": {
    "colab": {
     "base_uri": "https://localhost:8080/"
    },
    "id": "7BWNGKt9-Kxz",
    "outputId": "329bb1c1-28c4-47e6-f6bb-d029e7a4e3ab"
   },
   "outputs": [
    {
     "name": "stdout",
     "output_type": "stream",
     "text": [
      "Collecting mistral_inference\n",
      "  Downloading mistral_inference-1.3.1-py3-none-any.whl.metadata (14 kB)\n",
      "Requirement already satisfied: fire>=0.6.0 in /usr/local/lib/python3.10/dist-packages (from mistral_inference) (0.6.0)\n",
      "Requirement already satisfied: mistral_common<2.0.0,>=1.3.0 in /usr/local/lib/python3.10/dist-packages (from mistral_inference) (1.3.4)\n",
      "Requirement already satisfied: safetensors>=0.4.0 in /usr/local/lib/python3.10/dist-packages (from mistral_inference) (0.4.4)\n",
      "Requirement already satisfied: simple-parsing>=0.1.5 in /usr/local/lib/python3.10/dist-packages (from mistral_inference) (0.1.5)\n",
      "Requirement already satisfied: xformers>=0.0.24 in /usr/local/lib/python3.10/dist-packages (from mistral_inference) (0.0.24)\n",
      "Requirement already satisfied: six in /usr/local/lib/python3.10/dist-packages (from fire>=0.6.0->mistral_inference) (1.16.0)\n",
      "Requirement already satisfied: termcolor in /usr/local/lib/python3.10/dist-packages (from fire>=0.6.0->mistral_inference) (2.4.0)\n",
      "Requirement already satisfied: jsonschema<5.0.0,>=4.21.1 in /usr/local/lib/python3.10/dist-packages (from mistral_common<2.0.0,>=1.3.0->mistral_inference) (4.23.0)\n",
      "Requirement already satisfied: pydantic<3.0.0,>=2.6.1 in /usr/local/lib/python3.10/dist-packages (from mistral_common<2.0.0,>=1.3.0->mistral_inference) (2.8.2)\n",
      "Requirement already satisfied: sentencepiece==0.2.0 in /usr/local/lib/python3.10/dist-packages (from mistral_common<2.0.0,>=1.3.0->mistral_inference) (0.2.0)\n",
      "Requirement already satisfied: tiktoken<0.8.0,>=0.7.0 in /usr/local/lib/python3.10/dist-packages (from mistral_common<2.0.0,>=1.3.0->mistral_inference) (0.7.0)\n",
      "Requirement already satisfied: typing-extensions<5.0.0,>=4.11.0 in /usr/local/lib/python3.10/dist-packages (from mistral_common<2.0.0,>=1.3.0->mistral_inference) (4.12.2)\n",
      "Requirement already satisfied: docstring-parser~=0.15 in /usr/local/lib/python3.10/dist-packages (from simple-parsing>=0.1.5->mistral_inference) (0.16)\n",
      "Requirement already satisfied: numpy in /usr/local/lib/python3.10/dist-packages (from xformers>=0.0.24->mistral_inference) (1.26.4)\n",
      "Requirement already satisfied: torch==2.2.0 in /usr/local/lib/python3.10/dist-packages (from xformers>=0.0.24->mistral_inference) (2.2.0)\n",
      "Requirement already satisfied: filelock in /usr/local/lib/python3.10/dist-packages (from torch==2.2.0->xformers>=0.0.24->mistral_inference) (3.15.4)\n",
      "Requirement already satisfied: sympy in /usr/local/lib/python3.10/dist-packages (from torch==2.2.0->xformers>=0.0.24->mistral_inference) (1.13.2)\n",
      "Requirement already satisfied: networkx in /usr/local/lib/python3.10/dist-packages (from torch==2.2.0->xformers>=0.0.24->mistral_inference) (3.3)\n",
      "Requirement already satisfied: jinja2 in /usr/local/lib/python3.10/dist-packages (from torch==2.2.0->xformers>=0.0.24->mistral_inference) (3.1.4)\n",
      "Requirement already satisfied: fsspec in /usr/local/lib/python3.10/dist-packages (from torch==2.2.0->xformers>=0.0.24->mistral_inference) (2024.6.1)\n",
      "Requirement already satisfied: nvidia-cuda-nvrtc-cu12==12.1.105 in /usr/local/lib/python3.10/dist-packages (from torch==2.2.0->xformers>=0.0.24->mistral_inference) (12.1.105)\n",
      "Requirement already satisfied: nvidia-cuda-runtime-cu12==12.1.105 in /usr/local/lib/python3.10/dist-packages (from torch==2.2.0->xformers>=0.0.24->mistral_inference) (12.1.105)\n",
      "Requirement already satisfied: nvidia-cuda-cupti-cu12==12.1.105 in /usr/local/lib/python3.10/dist-packages (from torch==2.2.0->xformers>=0.0.24->mistral_inference) (12.1.105)\n",
      "Requirement already satisfied: nvidia-cudnn-cu12==8.9.2.26 in /usr/local/lib/python3.10/dist-packages (from torch==2.2.0->xformers>=0.0.24->mistral_inference) (8.9.2.26)\n",
      "Requirement already satisfied: nvidia-cublas-cu12==12.1.3.1 in /usr/local/lib/python3.10/dist-packages (from torch==2.2.0->xformers>=0.0.24->mistral_inference) (12.1.3.1)\n",
      "Requirement already satisfied: nvidia-cufft-cu12==11.0.2.54 in /usr/local/lib/python3.10/dist-packages (from torch==2.2.0->xformers>=0.0.24->mistral_inference) (11.0.2.54)\n",
      "Requirement already satisfied: nvidia-curand-cu12==10.3.2.106 in /usr/local/lib/python3.10/dist-packages (from torch==2.2.0->xformers>=0.0.24->mistral_inference) (10.3.2.106)\n",
      "Requirement already satisfied: nvidia-cusolver-cu12==11.4.5.107 in /usr/local/lib/python3.10/dist-packages (from torch==2.2.0->xformers>=0.0.24->mistral_inference) (11.4.5.107)\n",
      "Requirement already satisfied: nvidia-cusparse-cu12==12.1.0.106 in /usr/local/lib/python3.10/dist-packages (from torch==2.2.0->xformers>=0.0.24->mistral_inference) (12.1.0.106)\n",
      "Requirement already satisfied: nvidia-nccl-cu12==2.19.3 in /usr/local/lib/python3.10/dist-packages (from torch==2.2.0->xformers>=0.0.24->mistral_inference) (2.19.3)\n",
      "Requirement already satisfied: nvidia-nvtx-cu12==12.1.105 in /usr/local/lib/python3.10/dist-packages (from torch==2.2.0->xformers>=0.0.24->mistral_inference) (12.1.105)\n",
      "Requirement already satisfied: triton==2.2.0 in /usr/local/lib/python3.10/dist-packages (from torch==2.2.0->xformers>=0.0.24->mistral_inference) (2.2.0)\n",
      "Requirement already satisfied: nvidia-nvjitlink-cu12 in /usr/local/lib/python3.10/dist-packages (from nvidia-cusolver-cu12==11.4.5.107->torch==2.2.0->xformers>=0.0.24->mistral_inference) (12.6.20)\n",
      "Requirement already satisfied: attrs>=22.2.0 in /usr/local/lib/python3.10/dist-packages (from jsonschema<5.0.0,>=4.21.1->mistral_common<2.0.0,>=1.3.0->mistral_inference) (24.2.0)\n",
      "Requirement already satisfied: jsonschema-specifications>=2023.03.6 in /usr/local/lib/python3.10/dist-packages (from jsonschema<5.0.0,>=4.21.1->mistral_common<2.0.0,>=1.3.0->mistral_inference) (2023.12.1)\n",
      "Requirement already satisfied: referencing>=0.28.4 in /usr/local/lib/python3.10/dist-packages (from jsonschema<5.0.0,>=4.21.1->mistral_common<2.0.0,>=1.3.0->mistral_inference) (0.35.1)\n",
      "Requirement already satisfied: rpds-py>=0.7.1 in /usr/local/lib/python3.10/dist-packages (from jsonschema<5.0.0,>=4.21.1->mistral_common<2.0.0,>=1.3.0->mistral_inference) (0.20.0)\n",
      "Requirement already satisfied: annotated-types>=0.4.0 in /usr/local/lib/python3.10/dist-packages (from pydantic<3.0.0,>=2.6.1->mistral_common<2.0.0,>=1.3.0->mistral_inference) (0.7.0)\n",
      "Requirement already satisfied: pydantic-core==2.20.1 in /usr/local/lib/python3.10/dist-packages (from pydantic<3.0.0,>=2.6.1->mistral_common<2.0.0,>=1.3.0->mistral_inference) (2.20.1)\n",
      "Requirement already satisfied: regex>=2022.1.18 in /usr/local/lib/python3.10/dist-packages (from tiktoken<0.8.0,>=0.7.0->mistral_common<2.0.0,>=1.3.0->mistral_inference) (2024.5.15)\n",
      "Requirement already satisfied: requests>=2.26.0 in /usr/local/lib/python3.10/dist-packages (from tiktoken<0.8.0,>=0.7.0->mistral_common<2.0.0,>=1.3.0->mistral_inference) (2.32.3)\n",
      "Requirement already satisfied: charset-normalizer<4,>=2 in /usr/local/lib/python3.10/dist-packages (from requests>=2.26.0->tiktoken<0.8.0,>=0.7.0->mistral_common<2.0.0,>=1.3.0->mistral_inference) (3.3.2)\n",
      "Requirement already satisfied: idna<4,>=2.5 in /usr/local/lib/python3.10/dist-packages (from requests>=2.26.0->tiktoken<0.8.0,>=0.7.0->mistral_common<2.0.0,>=1.3.0->mistral_inference) (3.7)\n",
      "Requirement already satisfied: urllib3<3,>=1.21.1 in /usr/local/lib/python3.10/dist-packages (from requests>=2.26.0->tiktoken<0.8.0,>=0.7.0->mistral_common<2.0.0,>=1.3.0->mistral_inference) (2.0.7)\n",
      "Requirement already satisfied: certifi>=2017.4.17 in /usr/local/lib/python3.10/dist-packages (from requests>=2.26.0->tiktoken<0.8.0,>=0.7.0->mistral_common<2.0.0,>=1.3.0->mistral_inference) (2024.7.4)\n",
      "Requirement already satisfied: MarkupSafe>=2.0 in /usr/local/lib/python3.10/dist-packages (from jinja2->torch==2.2.0->xformers>=0.0.24->mistral_inference) (2.1.5)\n",
      "Requirement already satisfied: mpmath<1.4,>=1.1.0 in /usr/local/lib/python3.10/dist-packages (from sympy->torch==2.2.0->xformers>=0.0.24->mistral_inference) (1.3.0)\n",
      "Downloading mistral_inference-1.3.1-py3-none-any.whl (25 kB)\n",
      "Installing collected packages: mistral_inference\n",
      "Successfully installed mistral_inference-1.3.1\n"
     ]
    }
   ],
   "source": [
    "!pip install mistral_inference"
   ]
  },
  {
   "cell_type": "code",
   "execution_count": 23,
   "metadata": {
    "colab": {
     "base_uri": "https://localhost:8080/"
    },
    "id": "F-xLs2Ot9-il",
    "outputId": "e94afae0-ce98-4379-f672-044a259d2830"
   },
   "outputs": [
    {
     "name": "stdout",
     "output_type": "stream",
     "text": [
      "SELECT socket FROM table_name_7 WHERE frequency = \"1600mhz\" AND release_date = \"june 22, 2005\" AND voltage < 1.35\n"
     ]
    }
   ],
   "source": [
    "from mistral_inference.transformer import Transformer\n",
    "from mistral_inference.generate import generate\n",
    "\n",
    "from mistral_common.tokens.tokenizers.mistral import MistralTokenizer\n",
    "from mistral_common.protocol.instruct.messages import UserMessage\n",
    "from mistral_common.protocol.instruct.request import ChatCompletionRequest\n",
    "\n",
    "\n",
    "tokenizer = MistralTokenizer.from_file(\"/content/mistral_models/tokenizer.model.v3\")\n",
    "model = Transformer.from_folder(\"/content/mistral_models\")\n",
    "model.load_lora(\"/content/test_sql/checkpoints/checkpoint_000100/consolidated/lora.safetensors\") # load lora\n",
    "\n",
    "completion_request = ChatCompletionRequest(messages=[UserMessage(content=\"context: CREATE TABLE table_name_7 (socket VARCHAR, voltage VARCHAR, frequency VARCHAR, release_date VARCHAR); question: What is the socket related to the processor released on June 22, 2005, having a frequency of 1600MHz and voltage under 1.35V?\")])\n",
    "\n",
    "tokens = tokenizer.encode_chat_completion(completion_request).tokens\n",
    "\n",
    "out_tokens, _ = generate([tokens], model, max_tokens=64, temperature=0.0, eos_id=tokenizer.instruct_tokenizer.tokenizer.eos_id)\n",
    "result = tokenizer.instruct_tokenizer.tokenizer.decode(out_tokens[0])\n",
    "\n",
    "print(result)"
   ]
  },
  {
   "cell_type": "code",
   "execution_count": 24,
   "metadata": {
    "colab": {
     "base_uri": "https://localhost:8080/"
    },
    "id": "Pj92XTkSLSp2",
    "outputId": "f107b99b-e291-427a-9094-ab2f4e994992"
   },
   "outputs": [
    {
     "name": "stdout",
     "output_type": "stream",
     "text": [
      "  adding: content/test_sql/ (stored 0%)\n",
      "  adding: content/test_sql/metrics.eval.jsonl (deflated 21%)\n",
      "  adding: content/test_sql/tb/ (stored 0%)\n",
      "  adding: content/test_sql/tb/events.out.tfevents.1724281333.c3bdaa82a29f.1764.1.eval (deflated 26%)\n",
      "  adding: content/test_sql/tb/events.out.tfevents.1724281333.c3bdaa82a29f.1764.0.train (deflated 73%)\n",
      "  adding: content/test_sql/metrics.train.jsonl (deflated 77%)\n",
      "  adding: content/test_sql/args.yaml (deflated 48%)\n",
      "  adding: content/test_sql/checkpoints/ (stored 0%)\n",
      "  adding: content/test_sql/checkpoints/checkpoint_000100/ (stored 0%)\n",
      "  adding: content/test_sql/checkpoints/checkpoint_000100/consolidated/ (stored 0%)\n",
      "  adding: content/test_sql/checkpoints/checkpoint_000100/consolidated/params.json (deflated 49%)\n",
      "  adding: content/test_sql/checkpoints/checkpoint_000100/consolidated/lora.safetensors (deflated 21%)\n",
      "  adding: content/test_sql/checkpoints/checkpoint_000100/consolidated/tokenizer.model.v3 (deflated 61%)\n"
     ]
    }
   ],
   "source": [
    "!zip -r /content/test_sql.zip /content/test_sql"
   ]
  },
  {
   "cell_type": "markdown",
   "metadata": {
    "id": "0Fxzo5FL6A7P"
   },
   "source": [
    "## Make sure you download the zip file before disconnecting the runtime."
   ]
  },
  {
   "cell_type": "markdown",
   "metadata": {
    "id": "1jIGk-j3l2A9"
   },
   "source": [
    "## Next Steps:\n",
    "\n",
    "We can use llamma.cpp to convert above model to gguf and run on smaller machine.\n",
    "https://www.geeksforgeeks.org/how-to-convert-any-huggingface-model-to-gguf-file-format/"
   ]
  }
 ],
 "metadata": {
  "accelerator": "GPU",
  "colab": {
   "gpuType": "A100",
   "machine_shape": "hm",
   "provenance": []
  },
  "kernelspec": {
   "display_name": "Python 3 (ipykernel)",
   "language": "python",
   "name": "python3"
  },
  "language_info": {
   "codemirror_mode": {
    "name": "ipython",
    "version": 3
   },
   "file_extension": ".py",
   "mimetype": "text/x-python",
   "name": "python",
   "nbconvert_exporter": "python",
   "pygments_lexer": "ipython3",
   "version": "3.9.19"
  },
  "widgets": {
   "application/vnd.jupyter.widget-state+json": {
    "02b24a80fdb0465582a599736304789b": {
     "model_module": "@jupyter-widgets/controls",
     "model_module_version": "1.5.0",
     "model_name": "ProgressStyleModel",
     "state": {
      "_model_module": "@jupyter-widgets/controls",
      "_model_module_version": "1.5.0",
      "_model_name": "ProgressStyleModel",
      "_view_count": null,
      "_view_module": "@jupyter-widgets/base",
      "_view_module_version": "1.2.0",
      "_view_name": "StyleView",
      "bar_color": null,
      "description_width": ""
     }
    },
    "062afca84fb94a65bce46ee5e460aa91": {
     "model_module": "@jupyter-widgets/controls",
     "model_module_version": "1.5.0",
     "model_name": "HBoxModel",
     "state": {
      "_dom_classes": [],
      "_model_module": "@jupyter-widgets/controls",
      "_model_module_version": "1.5.0",
      "_model_name": "HBoxModel",
      "_view_count": null,
      "_view_module": "@jupyter-widgets/controls",
      "_view_module_version": "1.5.0",
      "_view_name": "HBoxView",
      "box_style": "",
      "children": [
       "IPY_MODEL_e322c37b34974863a1c30b4e426a653b",
       "IPY_MODEL_c876aa81aeed412cad8a2323f49037d7",
       "IPY_MODEL_302bd8dd832248e497a87464c8c942ab"
      ],
      "layout": "IPY_MODEL_8b3467a0915d48e5a4a0a3b3c100ec85"
     }
    },
    "068730b834d447e887b25c4b82fa507c": {
     "model_module": "@jupyter-widgets/controls",
     "model_module_version": "1.5.0",
     "model_name": "HBoxModel",
     "state": {
      "_dom_classes": [],
      "_model_module": "@jupyter-widgets/controls",
      "_model_module_version": "1.5.0",
      "_model_name": "HBoxModel",
      "_view_count": null,
      "_view_module": "@jupyter-widgets/controls",
      "_view_module_version": "1.5.0",
      "_view_name": "HBoxView",
      "box_style": "",
      "children": [
       "IPY_MODEL_3c6be7284d6243d185abba2406fa0093",
       "IPY_MODEL_7e3c0f221964437a8f7fe9b4233dbe5d",
       "IPY_MODEL_fc89cedb57ef43c78b0f304c9bac1b84"
      ],
      "layout": "IPY_MODEL_2eec8143346b4a8b80616c2bb30784a6"
     }
    },
    "081029f0ee4f4e7bb52cbdc5b159a1fb": {
     "model_module": "@jupyter-widgets/base",
     "model_module_version": "1.2.0",
     "model_name": "LayoutModel",
     "state": {
      "_model_module": "@jupyter-widgets/base",
      "_model_module_version": "1.2.0",
      "_model_name": "LayoutModel",
      "_view_count": null,
      "_view_module": "@jupyter-widgets/base",
      "_view_module_version": "1.2.0",
      "_view_name": "LayoutView",
      "align_content": null,
      "align_items": null,
      "align_self": null,
      "border": null,
      "bottom": null,
      "display": null,
      "flex": null,
      "flex_flow": null,
      "grid_area": null,
      "grid_auto_columns": null,
      "grid_auto_flow": null,
      "grid_auto_rows": null,
      "grid_column": null,
      "grid_gap": null,
      "grid_row": null,
      "grid_template_areas": null,
      "grid_template_columns": null,
      "grid_template_rows": null,
      "height": null,
      "justify_content": null,
      "justify_items": null,
      "left": null,
      "margin": null,
      "max_height": null,
      "max_width": null,
      "min_height": null,
      "min_width": null,
      "object_fit": null,
      "object_position": null,
      "order": null,
      "overflow": null,
      "overflow_x": null,
      "overflow_y": null,
      "padding": null,
      "right": null,
      "top": null,
      "visibility": null,
      "width": null
     }
    },
    "18d4c10464604284be01af68533efc89": {
     "model_module": "@jupyter-widgets/controls",
     "model_module_version": "1.5.0",
     "model_name": "HBoxModel",
     "state": {
      "_dom_classes": [],
      "_model_module": "@jupyter-widgets/controls",
      "_model_module_version": "1.5.0",
      "_model_name": "HBoxModel",
      "_view_count": null,
      "_view_module": "@jupyter-widgets/controls",
      "_view_module_version": "1.5.0",
      "_view_name": "HBoxView",
      "box_style": "",
      "children": [
       "IPY_MODEL_60fe041411ef4fdf8ac73e5a5e599cb8",
       "IPY_MODEL_d67a0b847ed04472930497fb8e5e7343",
       "IPY_MODEL_1bbf1700cc674a2aa27dadb547134745"
      ],
      "layout": "IPY_MODEL_aeef43872f6845799061e2d47de78593"
     }
    },
    "1bbf1700cc674a2aa27dadb547134745": {
     "model_module": "@jupyter-widgets/controls",
     "model_module_version": "1.5.0",
     "model_name": "HTMLModel",
     "state": {
      "_dom_classes": [],
      "_model_module": "@jupyter-widgets/controls",
      "_model_module_version": "1.5.0",
      "_model_name": "HTMLModel",
      "_view_count": null,
      "_view_module": "@jupyter-widgets/controls",
      "_view_module_version": "1.5.0",
      "_view_name": "HTMLView",
      "description": "",
      "description_tooltip": null,
      "layout": "IPY_MODEL_51d3f820c98641f59dab8def40d61cf8",
      "placeholder": "​",
      "style": "IPY_MODEL_5af906769daa49cfb378e4b3cc668817",
      "value": " 14.5G/14.5G [00:37&lt;00:00, 432MB/s]"
     }
    },
    "1c054f03ce2240abbfa01aff4a6c9570": {
     "model_module": "@jupyter-widgets/controls",
     "model_module_version": "1.5.0",
     "model_name": "DescriptionStyleModel",
     "state": {
      "_model_module": "@jupyter-widgets/controls",
      "_model_module_version": "1.5.0",
      "_model_name": "DescriptionStyleModel",
      "_view_count": null,
      "_view_module": "@jupyter-widgets/base",
      "_view_module_version": "1.2.0",
      "_view_name": "StyleView",
      "description_width": ""
     }
    },
    "1dec29e9433f48a48f8a152fba0051ae": {
     "model_module": "@jupyter-widgets/controls",
     "model_module_version": "1.5.0",
     "model_name": "HBoxModel",
     "state": {
      "_dom_classes": [],
      "_model_module": "@jupyter-widgets/controls",
      "_model_module_version": "1.5.0",
      "_model_name": "HBoxModel",
      "_view_count": null,
      "_view_module": "@jupyter-widgets/controls",
      "_view_module_version": "1.5.0",
      "_view_name": "HBoxView",
      "box_style": "",
      "children": [
       "IPY_MODEL_8a14cc31b37e4d3885f4b1697014f538",
       "IPY_MODEL_74a899d522a64ebabf818bcbfd9820b8",
       "IPY_MODEL_dcd827050593467897092b3dd242f7ac"
      ],
      "layout": "IPY_MODEL_e5ac738f8c7c45a6b598fcb860957c32"
     }
    },
    "1e929e25a1e040e7959b7e24e960bbd7": {
     "model_module": "@jupyter-widgets/base",
     "model_module_version": "1.2.0",
     "model_name": "LayoutModel",
     "state": {
      "_model_module": "@jupyter-widgets/base",
      "_model_module_version": "1.2.0",
      "_model_name": "LayoutModel",
      "_view_count": null,
      "_view_module": "@jupyter-widgets/base",
      "_view_module_version": "1.2.0",
      "_view_name": "LayoutView",
      "align_content": null,
      "align_items": null,
      "align_self": null,
      "border": null,
      "bottom": null,
      "display": null,
      "flex": null,
      "flex_flow": null,
      "grid_area": null,
      "grid_auto_columns": null,
      "grid_auto_flow": null,
      "grid_auto_rows": null,
      "grid_column": null,
      "grid_gap": null,
      "grid_row": null,
      "grid_template_areas": null,
      "grid_template_columns": null,
      "grid_template_rows": null,
      "height": null,
      "justify_content": null,
      "justify_items": null,
      "left": null,
      "margin": null,
      "max_height": null,
      "max_width": null,
      "min_height": null,
      "min_width": null,
      "object_fit": null,
      "object_position": null,
      "order": null,
      "overflow": null,
      "overflow_x": null,
      "overflow_y": null,
      "padding": null,
      "right": null,
      "top": null,
      "visibility": null,
      "width": null
     }
    },
    "1f5d09dff6f94366953c7765e44b1a49": {
     "model_module": "@jupyter-widgets/base",
     "model_module_version": "1.2.0",
     "model_name": "LayoutModel",
     "state": {
      "_model_module": "@jupyter-widgets/base",
      "_model_module_version": "1.2.0",
      "_model_name": "LayoutModel",
      "_view_count": null,
      "_view_module": "@jupyter-widgets/base",
      "_view_module_version": "1.2.0",
      "_view_name": "LayoutView",
      "align_content": null,
      "align_items": null,
      "align_self": null,
      "border": null,
      "bottom": null,
      "display": null,
      "flex": null,
      "flex_flow": null,
      "grid_area": null,
      "grid_auto_columns": null,
      "grid_auto_flow": null,
      "grid_auto_rows": null,
      "grid_column": null,
      "grid_gap": null,
      "grid_row": null,
      "grid_template_areas": null,
      "grid_template_columns": null,
      "grid_template_rows": null,
      "height": null,
      "justify_content": null,
      "justify_items": null,
      "left": null,
      "margin": null,
      "max_height": null,
      "max_width": null,
      "min_height": null,
      "min_width": null,
      "object_fit": null,
      "object_position": null,
      "order": null,
      "overflow": null,
      "overflow_x": null,
      "overflow_y": null,
      "padding": null,
      "right": null,
      "top": null,
      "visibility": null,
      "width": null
     }
    },
    "201c097c6be24558b007d74ba3bd1efb": {
     "model_module": "@jupyter-widgets/controls",
     "model_module_version": "1.5.0",
     "model_name": "ProgressStyleModel",
     "state": {
      "_model_module": "@jupyter-widgets/controls",
      "_model_module_version": "1.5.0",
      "_model_name": "ProgressStyleModel",
      "_view_count": null,
      "_view_module": "@jupyter-widgets/base",
      "_view_module_version": "1.2.0",
      "_view_name": "StyleView",
      "bar_color": null,
      "description_width": ""
     }
    },
    "2eec8143346b4a8b80616c2bb30784a6": {
     "model_module": "@jupyter-widgets/base",
     "model_module_version": "1.2.0",
     "model_name": "LayoutModel",
     "state": {
      "_model_module": "@jupyter-widgets/base",
      "_model_module_version": "1.2.0",
      "_model_name": "LayoutModel",
      "_view_count": null,
      "_view_module": "@jupyter-widgets/base",
      "_view_module_version": "1.2.0",
      "_view_name": "LayoutView",
      "align_content": null,
      "align_items": null,
      "align_self": null,
      "border": null,
      "bottom": null,
      "display": null,
      "flex": null,
      "flex_flow": null,
      "grid_area": null,
      "grid_auto_columns": null,
      "grid_auto_flow": null,
      "grid_auto_rows": null,
      "grid_column": null,
      "grid_gap": null,
      "grid_row": null,
      "grid_template_areas": null,
      "grid_template_columns": null,
      "grid_template_rows": null,
      "height": null,
      "justify_content": null,
      "justify_items": null,
      "left": null,
      "margin": null,
      "max_height": null,
      "max_width": null,
      "min_height": null,
      "min_width": null,
      "object_fit": null,
      "object_position": null,
      "order": null,
      "overflow": null,
      "overflow_x": null,
      "overflow_y": null,
      "padding": null,
      "right": null,
      "top": null,
      "visibility": null,
      "width": null
     }
    },
    "302bd8dd832248e497a87464c8c942ab": {
     "model_module": "@jupyter-widgets/controls",
     "model_module_version": "1.5.0",
     "model_name": "HTMLModel",
     "state": {
      "_dom_classes": [],
      "_model_module": "@jupyter-widgets/controls",
      "_model_module_version": "1.5.0",
      "_model_name": "HTMLModel",
      "_view_count": null,
      "_view_module": "@jupyter-widgets/controls",
      "_view_module_version": "1.5.0",
      "_view_name": "HTMLView",
      "description": "",
      "description_tooltip": null,
      "layout": "IPY_MODEL_73a793a364c8425687fbac7d33ad5a75",
      "placeholder": "​",
      "style": "IPY_MODEL_6dd2ece4a7744558a36e2c20b4537db6",
      "value": " 3/3 [00:37&lt;00:00, 37.91s/it]"
     }
    },
    "387a5525e4b043abaf82606f36dcd9c2": {
     "model_module": "@jupyter-widgets/base",
     "model_module_version": "1.2.0",
     "model_name": "LayoutModel",
     "state": {
      "_model_module": "@jupyter-widgets/base",
      "_model_module_version": "1.2.0",
      "_model_name": "LayoutModel",
      "_view_count": null,
      "_view_module": "@jupyter-widgets/base",
      "_view_module_version": "1.2.0",
      "_view_name": "LayoutView",
      "align_content": null,
      "align_items": null,
      "align_self": null,
      "border": null,
      "bottom": null,
      "display": null,
      "flex": null,
      "flex_flow": null,
      "grid_area": null,
      "grid_auto_columns": null,
      "grid_auto_flow": null,
      "grid_auto_rows": null,
      "grid_column": null,
      "grid_gap": null,
      "grid_row": null,
      "grid_template_areas": null,
      "grid_template_columns": null,
      "grid_template_rows": null,
      "height": null,
      "justify_content": null,
      "justify_items": null,
      "left": null,
      "margin": null,
      "max_height": null,
      "max_width": null,
      "min_height": null,
      "min_width": null,
      "object_fit": null,
      "object_position": null,
      "order": null,
      "overflow": null,
      "overflow_x": null,
      "overflow_y": null,
      "padding": null,
      "right": null,
      "top": null,
      "visibility": null,
      "width": null
     }
    },
    "3c6be7284d6243d185abba2406fa0093": {
     "model_module": "@jupyter-widgets/controls",
     "model_module_version": "1.5.0",
     "model_name": "HTMLModel",
     "state": {
      "_dom_classes": [],
      "_model_module": "@jupyter-widgets/controls",
      "_model_module_version": "1.5.0",
      "_model_name": "HTMLModel",
      "_view_count": null,
      "_view_module": "@jupyter-widgets/controls",
      "_view_module_version": "1.5.0",
      "_view_name": "HTMLView",
      "description": "",
      "description_tooltip": null,
      "layout": "IPY_MODEL_081029f0ee4f4e7bb52cbdc5b159a1fb",
      "placeholder": "​",
      "style": "IPY_MODEL_ec0d2b610a5741d7aaf2c07b781a4889",
      "value": "Processing Training Set: 100%"
     }
    },
    "3dbf09f366ae43cbad2c3b733cb8aa32": {
     "model_module": "@jupyter-widgets/controls",
     "model_module_version": "1.5.0",
     "model_name": "ProgressStyleModel",
     "state": {
      "_model_module": "@jupyter-widgets/controls",
      "_model_module_version": "1.5.0",
      "_model_name": "ProgressStyleModel",
      "_view_count": null,
      "_view_module": "@jupyter-widgets/base",
      "_view_module_version": "1.2.0",
      "_view_name": "StyleView",
      "bar_color": null,
      "description_width": ""
     }
    },
    "41467e15f7cd481cb459f8097377197c": {
     "model_module": "@jupyter-widgets/base",
     "model_module_version": "1.2.0",
     "model_name": "LayoutModel",
     "state": {
      "_model_module": "@jupyter-widgets/base",
      "_model_module_version": "1.2.0",
      "_model_name": "LayoutModel",
      "_view_count": null,
      "_view_module": "@jupyter-widgets/base",
      "_view_module_version": "1.2.0",
      "_view_name": "LayoutView",
      "align_content": null,
      "align_items": null,
      "align_self": null,
      "border": null,
      "bottom": null,
      "display": null,
      "flex": null,
      "flex_flow": null,
      "grid_area": null,
      "grid_auto_columns": null,
      "grid_auto_flow": null,
      "grid_auto_rows": null,
      "grid_column": null,
      "grid_gap": null,
      "grid_row": null,
      "grid_template_areas": null,
      "grid_template_columns": null,
      "grid_template_rows": null,
      "height": null,
      "justify_content": null,
      "justify_items": null,
      "left": null,
      "margin": null,
      "max_height": null,
      "max_width": null,
      "min_height": null,
      "min_width": null,
      "object_fit": null,
      "object_position": null,
      "order": null,
      "overflow": null,
      "overflow_x": null,
      "overflow_y": null,
      "padding": null,
      "right": null,
      "top": null,
      "visibility": null,
      "width": null
     }
    },
    "476627f6dc4240b6bdf612598166bccf": {
     "model_module": "@jupyter-widgets/base",
     "model_module_version": "1.2.0",
     "model_name": "LayoutModel",
     "state": {
      "_model_module": "@jupyter-widgets/base",
      "_model_module_version": "1.2.0",
      "_model_name": "LayoutModel",
      "_view_count": null,
      "_view_module": "@jupyter-widgets/base",
      "_view_module_version": "1.2.0",
      "_view_name": "LayoutView",
      "align_content": null,
      "align_items": null,
      "align_self": null,
      "border": null,
      "bottom": null,
      "display": null,
      "flex": null,
      "flex_flow": null,
      "grid_area": null,
      "grid_auto_columns": null,
      "grid_auto_flow": null,
      "grid_auto_rows": null,
      "grid_column": null,
      "grid_gap": null,
      "grid_row": null,
      "grid_template_areas": null,
      "grid_template_columns": null,
      "grid_template_rows": null,
      "height": null,
      "justify_content": null,
      "justify_items": null,
      "left": null,
      "margin": null,
      "max_height": null,
      "max_width": null,
      "min_height": null,
      "min_width": null,
      "object_fit": null,
      "object_position": null,
      "order": null,
      "overflow": null,
      "overflow_x": null,
      "overflow_y": null,
      "padding": null,
      "right": null,
      "top": null,
      "visibility": null,
      "width": null
     }
    },
    "477de7b0e385420fbebfdccadf78fe39": {
     "model_module": "@jupyter-widgets/controls",
     "model_module_version": "1.5.0",
     "model_name": "ProgressStyleModel",
     "state": {
      "_model_module": "@jupyter-widgets/controls",
      "_model_module_version": "1.5.0",
      "_model_name": "ProgressStyleModel",
      "_view_count": null,
      "_view_module": "@jupyter-widgets/base",
      "_view_module_version": "1.2.0",
      "_view_name": "StyleView",
      "bar_color": null,
      "description_width": ""
     }
    },
    "4c4b1c040b6c4b9c8186a90f2a95e0c4": {
     "model_module": "@jupyter-widgets/controls",
     "model_module_version": "1.5.0",
     "model_name": "DescriptionStyleModel",
     "state": {
      "_model_module": "@jupyter-widgets/controls",
      "_model_module_version": "1.5.0",
      "_model_name": "DescriptionStyleModel",
      "_view_count": null,
      "_view_module": "@jupyter-widgets/base",
      "_view_module_version": "1.2.0",
      "_view_name": "StyleView",
      "description_width": ""
     }
    },
    "4d11211c29cb4dac84e611005b2011f9": {
     "model_module": "@jupyter-widgets/controls",
     "model_module_version": "1.5.0",
     "model_name": "HTMLModel",
     "state": {
      "_dom_classes": [],
      "_model_module": "@jupyter-widgets/controls",
      "_model_module_version": "1.5.0",
      "_model_name": "HTMLModel",
      "_view_count": null,
      "_view_module": "@jupyter-widgets/controls",
      "_view_module_version": "1.5.0",
      "_view_name": "HTMLView",
      "description": "",
      "description_tooltip": null,
      "layout": "IPY_MODEL_7a42c948365f48a3b47725eb0c87c8a0",
      "placeholder": "​",
      "style": "IPY_MODEL_bbeac0b3a30846d5b0f3602bca99b6e5",
      "value": "sql_create_context_v4.json: 100%"
     }
    },
    "51d3f820c98641f59dab8def40d61cf8": {
     "model_module": "@jupyter-widgets/base",
     "model_module_version": "1.2.0",
     "model_name": "LayoutModel",
     "state": {
      "_model_module": "@jupyter-widgets/base",
      "_model_module_version": "1.2.0",
      "_model_name": "LayoutModel",
      "_view_count": null,
      "_view_module": "@jupyter-widgets/base",
      "_view_module_version": "1.2.0",
      "_view_name": "LayoutView",
      "align_content": null,
      "align_items": null,
      "align_self": null,
      "border": null,
      "bottom": null,
      "display": null,
      "flex": null,
      "flex_flow": null,
      "grid_area": null,
      "grid_auto_columns": null,
      "grid_auto_flow": null,
      "grid_auto_rows": null,
      "grid_column": null,
      "grid_gap": null,
      "grid_row": null,
      "grid_template_areas": null,
      "grid_template_columns": null,
      "grid_template_rows": null,
      "height": null,
      "justify_content": null,
      "justify_items": null,
      "left": null,
      "margin": null,
      "max_height": null,
      "max_width": null,
      "min_height": null,
      "min_width": null,
      "object_fit": null,
      "object_position": null,
      "order": null,
      "overflow": null,
      "overflow_x": null,
      "overflow_y": null,
      "padding": null,
      "right": null,
      "top": null,
      "visibility": null,
      "width": null
     }
    },
    "52ac1ce76d294170963ee785ec173bba": {
     "model_module": "@jupyter-widgets/base",
     "model_module_version": "1.2.0",
     "model_name": "LayoutModel",
     "state": {
      "_model_module": "@jupyter-widgets/base",
      "_model_module_version": "1.2.0",
      "_model_name": "LayoutModel",
      "_view_count": null,
      "_view_module": "@jupyter-widgets/base",
      "_view_module_version": "1.2.0",
      "_view_name": "LayoutView",
      "align_content": null,
      "align_items": null,
      "align_self": null,
      "border": null,
      "bottom": null,
      "display": null,
      "flex": null,
      "flex_flow": null,
      "grid_area": null,
      "grid_auto_columns": null,
      "grid_auto_flow": null,
      "grid_auto_rows": null,
      "grid_column": null,
      "grid_gap": null,
      "grid_row": null,
      "grid_template_areas": null,
      "grid_template_columns": null,
      "grid_template_rows": null,
      "height": null,
      "justify_content": null,
      "justify_items": null,
      "left": null,
      "margin": null,
      "max_height": null,
      "max_width": null,
      "min_height": null,
      "min_width": null,
      "object_fit": null,
      "object_position": null,
      "order": null,
      "overflow": null,
      "overflow_x": null,
      "overflow_y": null,
      "padding": null,
      "right": null,
      "top": null,
      "visibility": null,
      "width": null
     }
    },
    "53b8ef0d7b5e401786af88a0dc4446aa": {
     "model_module": "@jupyter-widgets/controls",
     "model_module_version": "1.5.0",
     "model_name": "DescriptionStyleModel",
     "state": {
      "_model_module": "@jupyter-widgets/controls",
      "_model_module_version": "1.5.0",
      "_model_name": "DescriptionStyleModel",
      "_view_count": null,
      "_view_module": "@jupyter-widgets/base",
      "_view_module_version": "1.2.0",
      "_view_name": "StyleView",
      "description_width": ""
     }
    },
    "5af906769daa49cfb378e4b3cc668817": {
     "model_module": "@jupyter-widgets/controls",
     "model_module_version": "1.5.0",
     "model_name": "DescriptionStyleModel",
     "state": {
      "_model_module": "@jupyter-widgets/controls",
      "_model_module_version": "1.5.0",
      "_model_name": "DescriptionStyleModel",
      "_view_count": null,
      "_view_module": "@jupyter-widgets/base",
      "_view_module_version": "1.2.0",
      "_view_name": "StyleView",
      "description_width": ""
     }
    },
    "5c816c29b3ed4460af27074229120071": {
     "model_module": "@jupyter-widgets/controls",
     "model_module_version": "1.5.0",
     "model_name": "HBoxModel",
     "state": {
      "_dom_classes": [],
      "_model_module": "@jupyter-widgets/controls",
      "_model_module_version": "1.5.0",
      "_model_name": "HBoxModel",
      "_view_count": null,
      "_view_module": "@jupyter-widgets/controls",
      "_view_module_version": "1.5.0",
      "_view_name": "HBoxView",
      "box_style": "",
      "children": [
       "IPY_MODEL_efa242ff2c34432daceb4d52df77e6bd",
       "IPY_MODEL_dbcf62e40bd441a480be09d7e31ace61",
       "IPY_MODEL_ac6565464d304d77aa9b704809232d40"
      ],
      "layout": "IPY_MODEL_e2e0daaed0f647a0800b3feeadaab157"
     }
    },
    "60fe041411ef4fdf8ac73e5a5e599cb8": {
     "model_module": "@jupyter-widgets/controls",
     "model_module_version": "1.5.0",
     "model_name": "HTMLModel",
     "state": {
      "_dom_classes": [],
      "_model_module": "@jupyter-widgets/controls",
      "_model_module_version": "1.5.0",
      "_model_name": "HTMLModel",
      "_view_count": null,
      "_view_module": "@jupyter-widgets/controls",
      "_view_module_version": "1.5.0",
      "_view_name": "HTMLView",
      "description": "",
      "description_tooltip": null,
      "layout": "IPY_MODEL_858f2aab30af4c8e8ce4d5a9d8ccd438",
      "placeholder": "​",
      "style": "IPY_MODEL_bef1511277b84fec9092c1642129e2bc",
      "value": "consolidated.safetensors: 100%"
     }
    },
    "634d32fe6a9f40c69532dbbe079bc7dd": {
     "model_module": "@jupyter-widgets/base",
     "model_module_version": "1.2.0",
     "model_name": "LayoutModel",
     "state": {
      "_model_module": "@jupyter-widgets/base",
      "_model_module_version": "1.2.0",
      "_model_name": "LayoutModel",
      "_view_count": null,
      "_view_module": "@jupyter-widgets/base",
      "_view_module_version": "1.2.0",
      "_view_name": "LayoutView",
      "align_content": null,
      "align_items": null,
      "align_self": null,
      "border": null,
      "bottom": null,
      "display": null,
      "flex": null,
      "flex_flow": null,
      "grid_area": null,
      "grid_auto_columns": null,
      "grid_auto_flow": null,
      "grid_auto_rows": null,
      "grid_column": null,
      "grid_gap": null,
      "grid_row": null,
      "grid_template_areas": null,
      "grid_template_columns": null,
      "grid_template_rows": null,
      "height": null,
      "justify_content": null,
      "justify_items": null,
      "left": null,
      "margin": null,
      "max_height": null,
      "max_width": null,
      "min_height": null,
      "min_width": null,
      "object_fit": null,
      "object_position": null,
      "order": null,
      "overflow": null,
      "overflow_x": null,
      "overflow_y": null,
      "padding": null,
      "right": null,
      "top": null,
      "visibility": null,
      "width": null
     }
    },
    "6dd2ece4a7744558a36e2c20b4537db6": {
     "model_module": "@jupyter-widgets/controls",
     "model_module_version": "1.5.0",
     "model_name": "DescriptionStyleModel",
     "state": {
      "_model_module": "@jupyter-widgets/controls",
      "_model_module_version": "1.5.0",
      "_model_name": "DescriptionStyleModel",
      "_view_count": null,
      "_view_module": "@jupyter-widgets/base",
      "_view_module_version": "1.2.0",
      "_view_name": "StyleView",
      "description_width": ""
     }
    },
    "73a793a364c8425687fbac7d33ad5a75": {
     "model_module": "@jupyter-widgets/base",
     "model_module_version": "1.2.0",
     "model_name": "LayoutModel",
     "state": {
      "_model_module": "@jupyter-widgets/base",
      "_model_module_version": "1.2.0",
      "_model_name": "LayoutModel",
      "_view_count": null,
      "_view_module": "@jupyter-widgets/base",
      "_view_module_version": "1.2.0",
      "_view_name": "LayoutView",
      "align_content": null,
      "align_items": null,
      "align_self": null,
      "border": null,
      "bottom": null,
      "display": null,
      "flex": null,
      "flex_flow": null,
      "grid_area": null,
      "grid_auto_columns": null,
      "grid_auto_flow": null,
      "grid_auto_rows": null,
      "grid_column": null,
      "grid_gap": null,
      "grid_row": null,
      "grid_template_areas": null,
      "grid_template_columns": null,
      "grid_template_rows": null,
      "height": null,
      "justify_content": null,
      "justify_items": null,
      "left": null,
      "margin": null,
      "max_height": null,
      "max_width": null,
      "min_height": null,
      "min_width": null,
      "object_fit": null,
      "object_position": null,
      "order": null,
      "overflow": null,
      "overflow_x": null,
      "overflow_y": null,
      "padding": null,
      "right": null,
      "top": null,
      "visibility": null,
      "width": null
     }
    },
    "74a899d522a64ebabf818bcbfd9820b8": {
     "model_module": "@jupyter-widgets/controls",
     "model_module_version": "1.5.0",
     "model_name": "FloatProgressModel",
     "state": {
      "_dom_classes": [],
      "_model_module": "@jupyter-widgets/controls",
      "_model_module_version": "1.5.0",
      "_model_name": "FloatProgressModel",
      "_view_count": null,
      "_view_module": "@jupyter-widgets/controls",
      "_view_module_version": "1.5.0",
      "_view_name": "ProgressView",
      "bar_style": "success",
      "description": "",
      "description_tooltip": null,
      "layout": "IPY_MODEL_ba95d09a908a44d2bab20adeabc06074",
      "max": 7858,
      "min": 0,
      "orientation": "horizontal",
      "style": "IPY_MODEL_477de7b0e385420fbebfdccadf78fe39",
      "value": 7858
     }
    },
    "7a42c948365f48a3b47725eb0c87c8a0": {
     "model_module": "@jupyter-widgets/base",
     "model_module_version": "1.2.0",
     "model_name": "LayoutModel",
     "state": {
      "_model_module": "@jupyter-widgets/base",
      "_model_module_version": "1.2.0",
      "_model_name": "LayoutModel",
      "_view_count": null,
      "_view_module": "@jupyter-widgets/base",
      "_view_module_version": "1.2.0",
      "_view_name": "LayoutView",
      "align_content": null,
      "align_items": null,
      "align_self": null,
      "border": null,
      "bottom": null,
      "display": null,
      "flex": null,
      "flex_flow": null,
      "grid_area": null,
      "grid_auto_columns": null,
      "grid_auto_flow": null,
      "grid_auto_rows": null,
      "grid_column": null,
      "grid_gap": null,
      "grid_row": null,
      "grid_template_areas": null,
      "grid_template_columns": null,
      "grid_template_rows": null,
      "height": null,
      "justify_content": null,
      "justify_items": null,
      "left": null,
      "margin": null,
      "max_height": null,
      "max_width": null,
      "min_height": null,
      "min_width": null,
      "object_fit": null,
      "object_position": null,
      "order": null,
      "overflow": null,
      "overflow_x": null,
      "overflow_y": null,
      "padding": null,
      "right": null,
      "top": null,
      "visibility": null,
      "width": null
     }
    },
    "7e3c0f221964437a8f7fe9b4233dbe5d": {
     "model_module": "@jupyter-widgets/controls",
     "model_module_version": "1.5.0",
     "model_name": "FloatProgressModel",
     "state": {
      "_dom_classes": [],
      "_model_module": "@jupyter-widgets/controls",
      "_model_module_version": "1.5.0",
      "_model_name": "FloatProgressModel",
      "_view_count": null,
      "_view_module": "@jupyter-widgets/controls",
      "_view_module_version": "1.5.0",
      "_view_name": "ProgressView",
      "bar_style": "success",
      "description": "",
      "description_tooltip": null,
      "layout": "IPY_MODEL_41467e15f7cd481cb459f8097377197c",
      "max": 70719,
      "min": 0,
      "orientation": "horizontal",
      "style": "IPY_MODEL_92daef65181a429599ba3fe0c44d5bde",
      "value": 70719
     }
    },
    "80d298b210f0406394ba59a029f70576": {
     "model_module": "@jupyter-widgets/base",
     "model_module_version": "1.2.0",
     "model_name": "LayoutModel",
     "state": {
      "_model_module": "@jupyter-widgets/base",
      "_model_module_version": "1.2.0",
      "_model_name": "LayoutModel",
      "_view_count": null,
      "_view_module": "@jupyter-widgets/base",
      "_view_module_version": "1.2.0",
      "_view_name": "LayoutView",
      "align_content": null,
      "align_items": null,
      "align_self": null,
      "border": null,
      "bottom": null,
      "display": null,
      "flex": null,
      "flex_flow": null,
      "grid_area": null,
      "grid_auto_columns": null,
      "grid_auto_flow": null,
      "grid_auto_rows": null,
      "grid_column": null,
      "grid_gap": null,
      "grid_row": null,
      "grid_template_areas": null,
      "grid_template_columns": null,
      "grid_template_rows": null,
      "height": null,
      "justify_content": null,
      "justify_items": null,
      "left": null,
      "margin": null,
      "max_height": null,
      "max_width": null,
      "min_height": null,
      "min_width": null,
      "object_fit": null,
      "object_position": null,
      "order": null,
      "overflow": null,
      "overflow_x": null,
      "overflow_y": null,
      "padding": null,
      "right": null,
      "top": null,
      "visibility": null,
      "width": null
     }
    },
    "858f2aab30af4c8e8ce4d5a9d8ccd438": {
     "model_module": "@jupyter-widgets/base",
     "model_module_version": "1.2.0",
     "model_name": "LayoutModel",
     "state": {
      "_model_module": "@jupyter-widgets/base",
      "_model_module_version": "1.2.0",
      "_model_name": "LayoutModel",
      "_view_count": null,
      "_view_module": "@jupyter-widgets/base",
      "_view_module_version": "1.2.0",
      "_view_name": "LayoutView",
      "align_content": null,
      "align_items": null,
      "align_self": null,
      "border": null,
      "bottom": null,
      "display": null,
      "flex": null,
      "flex_flow": null,
      "grid_area": null,
      "grid_auto_columns": null,
      "grid_auto_flow": null,
      "grid_auto_rows": null,
      "grid_column": null,
      "grid_gap": null,
      "grid_row": null,
      "grid_template_areas": null,
      "grid_template_columns": null,
      "grid_template_rows": null,
      "height": null,
      "justify_content": null,
      "justify_items": null,
      "left": null,
      "margin": null,
      "max_height": null,
      "max_width": null,
      "min_height": null,
      "min_width": null,
      "object_fit": null,
      "object_position": null,
      "order": null,
      "overflow": null,
      "overflow_x": null,
      "overflow_y": null,
      "padding": null,
      "right": null,
      "top": null,
      "visibility": null,
      "width": null
     }
    },
    "8a14cc31b37e4d3885f4b1697014f538": {
     "model_module": "@jupyter-widgets/controls",
     "model_module_version": "1.5.0",
     "model_name": "HTMLModel",
     "state": {
      "_dom_classes": [],
      "_model_module": "@jupyter-widgets/controls",
      "_model_module_version": "1.5.0",
      "_model_name": "HTMLModel",
      "_view_count": null,
      "_view_module": "@jupyter-widgets/controls",
      "_view_module_version": "1.5.0",
      "_view_name": "HTMLView",
      "description": "",
      "description_tooltip": null,
      "layout": "IPY_MODEL_a19555869f2142c9bbc89a0cfe4a8745",
      "placeholder": "​",
      "style": "IPY_MODEL_a697cab8504847389c532fd54afc2643",
      "value": "Processing Test Set: 100%"
     }
    },
    "8b3467a0915d48e5a4a0a3b3c100ec85": {
     "model_module": "@jupyter-widgets/base",
     "model_module_version": "1.2.0",
     "model_name": "LayoutModel",
     "state": {
      "_model_module": "@jupyter-widgets/base",
      "_model_module_version": "1.2.0",
      "_model_name": "LayoutModel",
      "_view_count": null,
      "_view_module": "@jupyter-widgets/base",
      "_view_module_version": "1.2.0",
      "_view_name": "LayoutView",
      "align_content": null,
      "align_items": null,
      "align_self": null,
      "border": null,
      "bottom": null,
      "display": null,
      "flex": null,
      "flex_flow": null,
      "grid_area": null,
      "grid_auto_columns": null,
      "grid_auto_flow": null,
      "grid_auto_rows": null,
      "grid_column": null,
      "grid_gap": null,
      "grid_row": null,
      "grid_template_areas": null,
      "grid_template_columns": null,
      "grid_template_rows": null,
      "height": null,
      "justify_content": null,
      "justify_items": null,
      "left": null,
      "margin": null,
      "max_height": null,
      "max_width": null,
      "min_height": null,
      "min_width": null,
      "object_fit": null,
      "object_position": null,
      "order": null,
      "overflow": null,
      "overflow_x": null,
      "overflow_y": null,
      "padding": null,
      "right": null,
      "top": null,
      "visibility": null,
      "width": null
     }
    },
    "8d29dec1e2c3415d89294fa1f92207a9": {
     "model_module": "@jupyter-widgets/controls",
     "model_module_version": "1.5.0",
     "model_name": "HBoxModel",
     "state": {
      "_dom_classes": [],
      "_model_module": "@jupyter-widgets/controls",
      "_model_module_version": "1.5.0",
      "_model_name": "HBoxModel",
      "_view_count": null,
      "_view_module": "@jupyter-widgets/controls",
      "_view_module_version": "1.5.0",
      "_view_name": "HBoxView",
      "box_style": "",
      "children": [
       "IPY_MODEL_4d11211c29cb4dac84e611005b2011f9",
       "IPY_MODEL_c3c64c182aa44231a8fb316e23931bf6",
       "IPY_MODEL_8d658d7b418d49f7af8801dbadcebfd0"
      ],
      "layout": "IPY_MODEL_9f53c8f8f2984f518b3d20d4e93b8bd5"
     }
    },
    "8d658d7b418d49f7af8801dbadcebfd0": {
     "model_module": "@jupyter-widgets/controls",
     "model_module_version": "1.5.0",
     "model_name": "HTMLModel",
     "state": {
      "_dom_classes": [],
      "_model_module": "@jupyter-widgets/controls",
      "_model_module_version": "1.5.0",
      "_model_name": "HTMLModel",
      "_view_count": null,
      "_view_module": "@jupyter-widgets/controls",
      "_view_module_version": "1.5.0",
      "_view_name": "HTMLView",
      "description": "",
      "description_tooltip": null,
      "layout": "IPY_MODEL_d46219920dd64b5990830e09d76e8eb0",
      "placeholder": "​",
      "style": "IPY_MODEL_e7b55c10b1934789a772f87b9ed028d9",
      "value": " 21.8M/21.8M [00:00&lt;00:00, 168MB/s]"
     }
    },
    "92daef65181a429599ba3fe0c44d5bde": {
     "model_module": "@jupyter-widgets/controls",
     "model_module_version": "1.5.0",
     "model_name": "ProgressStyleModel",
     "state": {
      "_model_module": "@jupyter-widgets/controls",
      "_model_module_version": "1.5.0",
      "_model_name": "ProgressStyleModel",
      "_view_count": null,
      "_view_module": "@jupyter-widgets/base",
      "_view_module_version": "1.2.0",
      "_view_name": "StyleView",
      "bar_color": null,
      "description_width": ""
     }
    },
    "9d081f320ed44cc5839fe46f87ac8468": {
     "model_module": "@jupyter-widgets/base",
     "model_module_version": "1.2.0",
     "model_name": "LayoutModel",
     "state": {
      "_model_module": "@jupyter-widgets/base",
      "_model_module_version": "1.2.0",
      "_model_name": "LayoutModel",
      "_view_count": null,
      "_view_module": "@jupyter-widgets/base",
      "_view_module_version": "1.2.0",
      "_view_name": "LayoutView",
      "align_content": null,
      "align_items": null,
      "align_self": null,
      "border": null,
      "bottom": null,
      "display": null,
      "flex": null,
      "flex_flow": null,
      "grid_area": null,
      "grid_auto_columns": null,
      "grid_auto_flow": null,
      "grid_auto_rows": null,
      "grid_column": null,
      "grid_gap": null,
      "grid_row": null,
      "grid_template_areas": null,
      "grid_template_columns": null,
      "grid_template_rows": null,
      "height": null,
      "justify_content": null,
      "justify_items": null,
      "left": null,
      "margin": null,
      "max_height": null,
      "max_width": null,
      "min_height": null,
      "min_width": null,
      "object_fit": null,
      "object_position": null,
      "order": null,
      "overflow": null,
      "overflow_x": null,
      "overflow_y": null,
      "padding": null,
      "right": null,
      "top": null,
      "visibility": null,
      "width": null
     }
    },
    "9f53c8f8f2984f518b3d20d4e93b8bd5": {
     "model_module": "@jupyter-widgets/base",
     "model_module_version": "1.2.0",
     "model_name": "LayoutModel",
     "state": {
      "_model_module": "@jupyter-widgets/base",
      "_model_module_version": "1.2.0",
      "_model_name": "LayoutModel",
      "_view_count": null,
      "_view_module": "@jupyter-widgets/base",
      "_view_module_version": "1.2.0",
      "_view_name": "LayoutView",
      "align_content": null,
      "align_items": null,
      "align_self": null,
      "border": null,
      "bottom": null,
      "display": null,
      "flex": null,
      "flex_flow": null,
      "grid_area": null,
      "grid_auto_columns": null,
      "grid_auto_flow": null,
      "grid_auto_rows": null,
      "grid_column": null,
      "grid_gap": null,
      "grid_row": null,
      "grid_template_areas": null,
      "grid_template_columns": null,
      "grid_template_rows": null,
      "height": null,
      "justify_content": null,
      "justify_items": null,
      "left": null,
      "margin": null,
      "max_height": null,
      "max_width": null,
      "min_height": null,
      "min_width": null,
      "object_fit": null,
      "object_position": null,
      "order": null,
      "overflow": null,
      "overflow_x": null,
      "overflow_y": null,
      "padding": null,
      "right": null,
      "top": null,
      "visibility": null,
      "width": null
     }
    },
    "9feb462a1c42455597386b291de9f0a9": {
     "model_module": "@jupyter-widgets/base",
     "model_module_version": "1.2.0",
     "model_name": "LayoutModel",
     "state": {
      "_model_module": "@jupyter-widgets/base",
      "_model_module_version": "1.2.0",
      "_model_name": "LayoutModel",
      "_view_count": null,
      "_view_module": "@jupyter-widgets/base",
      "_view_module_version": "1.2.0",
      "_view_name": "LayoutView",
      "align_content": null,
      "align_items": null,
      "align_self": null,
      "border": null,
      "bottom": null,
      "display": null,
      "flex": null,
      "flex_flow": null,
      "grid_area": null,
      "grid_auto_columns": null,
      "grid_auto_flow": null,
      "grid_auto_rows": null,
      "grid_column": null,
      "grid_gap": null,
      "grid_row": null,
      "grid_template_areas": null,
      "grid_template_columns": null,
      "grid_template_rows": null,
      "height": null,
      "justify_content": null,
      "justify_items": null,
      "left": null,
      "margin": null,
      "max_height": null,
      "max_width": null,
      "min_height": null,
      "min_width": null,
      "object_fit": null,
      "object_position": null,
      "order": null,
      "overflow": null,
      "overflow_x": null,
      "overflow_y": null,
      "padding": null,
      "right": null,
      "top": null,
      "visibility": null,
      "width": null
     }
    },
    "a19555869f2142c9bbc89a0cfe4a8745": {
     "model_module": "@jupyter-widgets/base",
     "model_module_version": "1.2.0",
     "model_name": "LayoutModel",
     "state": {
      "_model_module": "@jupyter-widgets/base",
      "_model_module_version": "1.2.0",
      "_model_name": "LayoutModel",
      "_view_count": null,
      "_view_module": "@jupyter-widgets/base",
      "_view_module_version": "1.2.0",
      "_view_name": "LayoutView",
      "align_content": null,
      "align_items": null,
      "align_self": null,
      "border": null,
      "bottom": null,
      "display": null,
      "flex": null,
      "flex_flow": null,
      "grid_area": null,
      "grid_auto_columns": null,
      "grid_auto_flow": null,
      "grid_auto_rows": null,
      "grid_column": null,
      "grid_gap": null,
      "grid_row": null,
      "grid_template_areas": null,
      "grid_template_columns": null,
      "grid_template_rows": null,
      "height": null,
      "justify_content": null,
      "justify_items": null,
      "left": null,
      "margin": null,
      "max_height": null,
      "max_width": null,
      "min_height": null,
      "min_width": null,
      "object_fit": null,
      "object_position": null,
      "order": null,
      "overflow": null,
      "overflow_x": null,
      "overflow_y": null,
      "padding": null,
      "right": null,
      "top": null,
      "visibility": null,
      "width": null
     }
    },
    "a6157862c10647f1b3bca2da8d434366": {
     "model_module": "@jupyter-widgets/controls",
     "model_module_version": "1.5.0",
     "model_name": "DescriptionStyleModel",
     "state": {
      "_model_module": "@jupyter-widgets/controls",
      "_model_module_version": "1.5.0",
      "_model_name": "DescriptionStyleModel",
      "_view_count": null,
      "_view_module": "@jupyter-widgets/base",
      "_view_module_version": "1.2.0",
      "_view_name": "StyleView",
      "description_width": ""
     }
    },
    "a619cd151e194f63b5463eada77cbd1b": {
     "model_module": "@jupyter-widgets/controls",
     "model_module_version": "1.5.0",
     "model_name": "DescriptionStyleModel",
     "state": {
      "_model_module": "@jupyter-widgets/controls",
      "_model_module_version": "1.5.0",
      "_model_name": "DescriptionStyleModel",
      "_view_count": null,
      "_view_module": "@jupyter-widgets/base",
      "_view_module_version": "1.2.0",
      "_view_name": "StyleView",
      "description_width": ""
     }
    },
    "a697cab8504847389c532fd54afc2643": {
     "model_module": "@jupyter-widgets/controls",
     "model_module_version": "1.5.0",
     "model_name": "DescriptionStyleModel",
     "state": {
      "_model_module": "@jupyter-widgets/controls",
      "_model_module_version": "1.5.0",
      "_model_name": "DescriptionStyleModel",
      "_view_count": null,
      "_view_module": "@jupyter-widgets/base",
      "_view_module_version": "1.2.0",
      "_view_name": "StyleView",
      "description_width": ""
     }
    },
    "ac6565464d304d77aa9b704809232d40": {
     "model_module": "@jupyter-widgets/controls",
     "model_module_version": "1.5.0",
     "model_name": "HTMLModel",
     "state": {
      "_dom_classes": [],
      "_model_module": "@jupyter-widgets/controls",
      "_model_module_version": "1.5.0",
      "_model_name": "HTMLModel",
      "_view_count": null,
      "_view_module": "@jupyter-widgets/controls",
      "_view_module_version": "1.5.0",
      "_view_name": "HTMLView",
      "description": "",
      "description_tooltip": null,
      "layout": "IPY_MODEL_1f5d09dff6f94366953c7765e44b1a49",
      "placeholder": "​",
      "style": "IPY_MODEL_53b8ef0d7b5e401786af88a0dc4446aa",
      "value": " 587k/587k [00:00&lt;00:00, 2.71MB/s]"
     }
    },
    "aeef43872f6845799061e2d47de78593": {
     "model_module": "@jupyter-widgets/base",
     "model_module_version": "1.2.0",
     "model_name": "LayoutModel",
     "state": {
      "_model_module": "@jupyter-widgets/base",
      "_model_module_version": "1.2.0",
      "_model_name": "LayoutModel",
      "_view_count": null,
      "_view_module": "@jupyter-widgets/base",
      "_view_module_version": "1.2.0",
      "_view_name": "LayoutView",
      "align_content": null,
      "align_items": null,
      "align_self": null,
      "border": null,
      "bottom": null,
      "display": null,
      "flex": null,
      "flex_flow": null,
      "grid_area": null,
      "grid_auto_columns": null,
      "grid_auto_flow": null,
      "grid_auto_rows": null,
      "grid_column": null,
      "grid_gap": null,
      "grid_row": null,
      "grid_template_areas": null,
      "grid_template_columns": null,
      "grid_template_rows": null,
      "height": null,
      "justify_content": null,
      "justify_items": null,
      "left": null,
      "margin": null,
      "max_height": null,
      "max_width": null,
      "min_height": null,
      "min_width": null,
      "object_fit": null,
      "object_position": null,
      "order": null,
      "overflow": null,
      "overflow_x": null,
      "overflow_y": null,
      "padding": null,
      "right": null,
      "top": null,
      "visibility": null,
      "width": null
     }
    },
    "af5fd4bd052a452ea872fb3c988f4c86": {
     "model_module": "@jupyter-widgets/controls",
     "model_module_version": "1.5.0",
     "model_name": "DescriptionStyleModel",
     "state": {
      "_model_module": "@jupyter-widgets/controls",
      "_model_module_version": "1.5.0",
      "_model_name": "DescriptionStyleModel",
      "_view_count": null,
      "_view_module": "@jupyter-widgets/base",
      "_view_module_version": "1.2.0",
      "_view_name": "StyleView",
      "description_width": ""
     }
    },
    "b0ec9ecbd4304a68982046c1185f9659": {
     "model_module": "@jupyter-widgets/controls",
     "model_module_version": "1.5.0",
     "model_name": "HTMLModel",
     "state": {
      "_dom_classes": [],
      "_model_module": "@jupyter-widgets/controls",
      "_model_module_version": "1.5.0",
      "_model_name": "HTMLModel",
      "_view_count": null,
      "_view_module": "@jupyter-widgets/controls",
      "_view_module_version": "1.5.0",
      "_view_name": "HTMLView",
      "description": "",
      "description_tooltip": null,
      "layout": "IPY_MODEL_dc3b591491a141b1816d4953156a2411",
      "placeholder": "​",
      "style": "IPY_MODEL_4c4b1c040b6c4b9c8186a90f2a95e0c4",
      "value": " 202/202 [00:00&lt;00:00, 8.69kB/s]"
     }
    },
    "b2e697374c5449c9baa63a9ee5c012ef": {
     "model_module": "@jupyter-widgets/controls",
     "model_module_version": "1.5.0",
     "model_name": "FloatProgressModel",
     "state": {
      "_dom_classes": [],
      "_model_module": "@jupyter-widgets/controls",
      "_model_module_version": "1.5.0",
      "_model_name": "FloatProgressModel",
      "_view_count": null,
      "_view_module": "@jupyter-widgets/controls",
      "_view_module_version": "1.5.0",
      "_view_name": "ProgressView",
      "bar_style": "success",
      "description": "",
      "description_tooltip": null,
      "layout": "IPY_MODEL_f8a18e34941244a081696ccee70c2b13",
      "max": 202,
      "min": 0,
      "orientation": "horizontal",
      "style": "IPY_MODEL_e3f04204321f4f24b82af5fc17824cd9",
      "value": 202
     }
    },
    "ba95d09a908a44d2bab20adeabc06074": {
     "model_module": "@jupyter-widgets/base",
     "model_module_version": "1.2.0",
     "model_name": "LayoutModel",
     "state": {
      "_model_module": "@jupyter-widgets/base",
      "_model_module_version": "1.2.0",
      "_model_name": "LayoutModel",
      "_view_count": null,
      "_view_module": "@jupyter-widgets/base",
      "_view_module_version": "1.2.0",
      "_view_name": "LayoutView",
      "align_content": null,
      "align_items": null,
      "align_self": null,
      "border": null,
      "bottom": null,
      "display": null,
      "flex": null,
      "flex_flow": null,
      "grid_area": null,
      "grid_auto_columns": null,
      "grid_auto_flow": null,
      "grid_auto_rows": null,
      "grid_column": null,
      "grid_gap": null,
      "grid_row": null,
      "grid_template_areas": null,
      "grid_template_columns": null,
      "grid_template_rows": null,
      "height": null,
      "justify_content": null,
      "justify_items": null,
      "left": null,
      "margin": null,
      "max_height": null,
      "max_width": null,
      "min_height": null,
      "min_width": null,
      "object_fit": null,
      "object_position": null,
      "order": null,
      "overflow": null,
      "overflow_x": null,
      "overflow_y": null,
      "padding": null,
      "right": null,
      "top": null,
      "visibility": null,
      "width": null
     }
    },
    "bbeac0b3a30846d5b0f3602bca99b6e5": {
     "model_module": "@jupyter-widgets/controls",
     "model_module_version": "1.5.0",
     "model_name": "DescriptionStyleModel",
     "state": {
      "_model_module": "@jupyter-widgets/controls",
      "_model_module_version": "1.5.0",
      "_model_name": "DescriptionStyleModel",
      "_view_count": null,
      "_view_module": "@jupyter-widgets/base",
      "_view_module_version": "1.2.0",
      "_view_name": "StyleView",
      "description_width": ""
     }
    },
    "bce977cac1b949b5810e107c681d5e52": {
     "model_module": "@jupyter-widgets/controls",
     "model_module_version": "1.5.0",
     "model_name": "ProgressStyleModel",
     "state": {
      "_model_module": "@jupyter-widgets/controls",
      "_model_module_version": "1.5.0",
      "_model_name": "ProgressStyleModel",
      "_view_count": null,
      "_view_module": "@jupyter-widgets/base",
      "_view_module_version": "1.2.0",
      "_view_name": "StyleView",
      "bar_color": null,
      "description_width": ""
     }
    },
    "be480f30a48f414ebec51d3907d2e234": {
     "model_module": "@jupyter-widgets/controls",
     "model_module_version": "1.5.0",
     "model_name": "HTMLModel",
     "state": {
      "_dom_classes": [],
      "_model_module": "@jupyter-widgets/controls",
      "_model_module_version": "1.5.0",
      "_model_name": "HTMLModel",
      "_view_count": null,
      "_view_module": "@jupyter-widgets/controls",
      "_view_module_version": "1.5.0",
      "_view_name": "HTMLView",
      "description": "",
      "description_tooltip": null,
      "layout": "IPY_MODEL_80d298b210f0406394ba59a029f70576",
      "placeholder": "​",
      "style": "IPY_MODEL_a619cd151e194f63b5463eada77cbd1b",
      "value": "params.json: 100%"
     }
    },
    "bef1511277b84fec9092c1642129e2bc": {
     "model_module": "@jupyter-widgets/controls",
     "model_module_version": "1.5.0",
     "model_name": "DescriptionStyleModel",
     "state": {
      "_model_module": "@jupyter-widgets/controls",
      "_model_module_version": "1.5.0",
      "_model_name": "DescriptionStyleModel",
      "_view_count": null,
      "_view_module": "@jupyter-widgets/base",
      "_view_module_version": "1.2.0",
      "_view_name": "StyleView",
      "description_width": ""
     }
    },
    "c3c64c182aa44231a8fb316e23931bf6": {
     "model_module": "@jupyter-widgets/controls",
     "model_module_version": "1.5.0",
     "model_name": "FloatProgressModel",
     "state": {
      "_dom_classes": [],
      "_model_module": "@jupyter-widgets/controls",
      "_model_module_version": "1.5.0",
      "_model_name": "FloatProgressModel",
      "_view_count": null,
      "_view_module": "@jupyter-widgets/controls",
      "_view_module_version": "1.5.0",
      "_view_name": "ProgressView",
      "bar_style": "success",
      "description": "",
      "description_tooltip": null,
      "layout": "IPY_MODEL_52ac1ce76d294170963ee785ec173bba",
      "max": 21752418,
      "min": 0,
      "orientation": "horizontal",
      "style": "IPY_MODEL_02b24a80fdb0465582a599736304789b",
      "value": 21752418
     }
    },
    "c876aa81aeed412cad8a2323f49037d7": {
     "model_module": "@jupyter-widgets/controls",
     "model_module_version": "1.5.0",
     "model_name": "FloatProgressModel",
     "state": {
      "_dom_classes": [],
      "_model_module": "@jupyter-widgets/controls",
      "_model_module_version": "1.5.0",
      "_model_name": "FloatProgressModel",
      "_view_count": null,
      "_view_module": "@jupyter-widgets/controls",
      "_view_module_version": "1.5.0",
      "_view_name": "ProgressView",
      "bar_style": "success",
      "description": "",
      "description_tooltip": null,
      "layout": "IPY_MODEL_da99106f02704123b421a5ae660dffe6",
      "max": 3,
      "min": 0,
      "orientation": "horizontal",
      "style": "IPY_MODEL_bce977cac1b949b5810e107c681d5e52",
      "value": 3
     }
    },
    "cdedbeb84211432982efd711399d2e0e": {
     "model_module": "@jupyter-widgets/controls",
     "model_module_version": "1.5.0",
     "model_name": "HBoxModel",
     "state": {
      "_dom_classes": [],
      "_model_module": "@jupyter-widgets/controls",
      "_model_module_version": "1.5.0",
      "_model_name": "HBoxModel",
      "_view_count": null,
      "_view_module": "@jupyter-widgets/controls",
      "_view_module_version": "1.5.0",
      "_view_name": "HBoxView",
      "box_style": "",
      "children": [
       "IPY_MODEL_be480f30a48f414ebec51d3907d2e234",
       "IPY_MODEL_b2e697374c5449c9baa63a9ee5c012ef",
       "IPY_MODEL_b0ec9ecbd4304a68982046c1185f9659"
      ],
      "layout": "IPY_MODEL_387a5525e4b043abaf82606f36dcd9c2"
     }
    },
    "cfe249d3e12d47ffa01d9abd6e7c7fd0": {
     "model_module": "@jupyter-widgets/base",
     "model_module_version": "1.2.0",
     "model_name": "LayoutModel",
     "state": {
      "_model_module": "@jupyter-widgets/base",
      "_model_module_version": "1.2.0",
      "_model_name": "LayoutModel",
      "_view_count": null,
      "_view_module": "@jupyter-widgets/base",
      "_view_module_version": "1.2.0",
      "_view_name": "LayoutView",
      "align_content": null,
      "align_items": null,
      "align_self": null,
      "border": null,
      "bottom": null,
      "display": null,
      "flex": null,
      "flex_flow": null,
      "grid_area": null,
      "grid_auto_columns": null,
      "grid_auto_flow": null,
      "grid_auto_rows": null,
      "grid_column": null,
      "grid_gap": null,
      "grid_row": null,
      "grid_template_areas": null,
      "grid_template_columns": null,
      "grid_template_rows": null,
      "height": null,
      "justify_content": null,
      "justify_items": null,
      "left": null,
      "margin": null,
      "max_height": null,
      "max_width": null,
      "min_height": null,
      "min_width": null,
      "object_fit": null,
      "object_position": null,
      "order": null,
      "overflow": null,
      "overflow_x": null,
      "overflow_y": null,
      "padding": null,
      "right": null,
      "top": null,
      "visibility": null,
      "width": null
     }
    },
    "d46219920dd64b5990830e09d76e8eb0": {
     "model_module": "@jupyter-widgets/base",
     "model_module_version": "1.2.0",
     "model_name": "LayoutModel",
     "state": {
      "_model_module": "@jupyter-widgets/base",
      "_model_module_version": "1.2.0",
      "_model_name": "LayoutModel",
      "_view_count": null,
      "_view_module": "@jupyter-widgets/base",
      "_view_module_version": "1.2.0",
      "_view_name": "LayoutView",
      "align_content": null,
      "align_items": null,
      "align_self": null,
      "border": null,
      "bottom": null,
      "display": null,
      "flex": null,
      "flex_flow": null,
      "grid_area": null,
      "grid_auto_columns": null,
      "grid_auto_flow": null,
      "grid_auto_rows": null,
      "grid_column": null,
      "grid_gap": null,
      "grid_row": null,
      "grid_template_areas": null,
      "grid_template_columns": null,
      "grid_template_rows": null,
      "height": null,
      "justify_content": null,
      "justify_items": null,
      "left": null,
      "margin": null,
      "max_height": null,
      "max_width": null,
      "min_height": null,
      "min_width": null,
      "object_fit": null,
      "object_position": null,
      "order": null,
      "overflow": null,
      "overflow_x": null,
      "overflow_y": null,
      "padding": null,
      "right": null,
      "top": null,
      "visibility": null,
      "width": null
     }
    },
    "d67a0b847ed04472930497fb8e5e7343": {
     "model_module": "@jupyter-widgets/controls",
     "model_module_version": "1.5.0",
     "model_name": "FloatProgressModel",
     "state": {
      "_dom_classes": [],
      "_model_module": "@jupyter-widgets/controls",
      "_model_module_version": "1.5.0",
      "_model_name": "FloatProgressModel",
      "_view_count": null,
      "_view_module": "@jupyter-widgets/controls",
      "_view_module_version": "1.5.0",
      "_view_name": "ProgressView",
      "bar_style": "success",
      "description": "",
      "description_tooltip": null,
      "layout": "IPY_MODEL_9d081f320ed44cc5839fe46f87ac8468",
      "max": 14496078512,
      "min": 0,
      "orientation": "horizontal",
      "style": "IPY_MODEL_201c097c6be24558b007d74ba3bd1efb",
      "value": 14496078512
     }
    },
    "da99106f02704123b421a5ae660dffe6": {
     "model_module": "@jupyter-widgets/base",
     "model_module_version": "1.2.0",
     "model_name": "LayoutModel",
     "state": {
      "_model_module": "@jupyter-widgets/base",
      "_model_module_version": "1.2.0",
      "_model_name": "LayoutModel",
      "_view_count": null,
      "_view_module": "@jupyter-widgets/base",
      "_view_module_version": "1.2.0",
      "_view_name": "LayoutView",
      "align_content": null,
      "align_items": null,
      "align_self": null,
      "border": null,
      "bottom": null,
      "display": null,
      "flex": null,
      "flex_flow": null,
      "grid_area": null,
      "grid_auto_columns": null,
      "grid_auto_flow": null,
      "grid_auto_rows": null,
      "grid_column": null,
      "grid_gap": null,
      "grid_row": null,
      "grid_template_areas": null,
      "grid_template_columns": null,
      "grid_template_rows": null,
      "height": null,
      "justify_content": null,
      "justify_items": null,
      "left": null,
      "margin": null,
      "max_height": null,
      "max_width": null,
      "min_height": null,
      "min_width": null,
      "object_fit": null,
      "object_position": null,
      "order": null,
      "overflow": null,
      "overflow_x": null,
      "overflow_y": null,
      "padding": null,
      "right": null,
      "top": null,
      "visibility": null,
      "width": null
     }
    },
    "dbcf62e40bd441a480be09d7e31ace61": {
     "model_module": "@jupyter-widgets/controls",
     "model_module_version": "1.5.0",
     "model_name": "FloatProgressModel",
     "state": {
      "_dom_classes": [],
      "_model_module": "@jupyter-widgets/controls",
      "_model_module_version": "1.5.0",
      "_model_name": "FloatProgressModel",
      "_view_count": null,
      "_view_module": "@jupyter-widgets/controls",
      "_view_module_version": "1.5.0",
      "_view_name": "ProgressView",
      "bar_style": "success",
      "description": "",
      "description_tooltip": null,
      "layout": "IPY_MODEL_634d32fe6a9f40c69532dbbe079bc7dd",
      "max": 587404,
      "min": 0,
      "orientation": "horizontal",
      "style": "IPY_MODEL_3dbf09f366ae43cbad2c3b733cb8aa32",
      "value": 587404
     }
    },
    "dc3b591491a141b1816d4953156a2411": {
     "model_module": "@jupyter-widgets/base",
     "model_module_version": "1.2.0",
     "model_name": "LayoutModel",
     "state": {
      "_model_module": "@jupyter-widgets/base",
      "_model_module_version": "1.2.0",
      "_model_name": "LayoutModel",
      "_view_count": null,
      "_view_module": "@jupyter-widgets/base",
      "_view_module_version": "1.2.0",
      "_view_name": "LayoutView",
      "align_content": null,
      "align_items": null,
      "align_self": null,
      "border": null,
      "bottom": null,
      "display": null,
      "flex": null,
      "flex_flow": null,
      "grid_area": null,
      "grid_auto_columns": null,
      "grid_auto_flow": null,
      "grid_auto_rows": null,
      "grid_column": null,
      "grid_gap": null,
      "grid_row": null,
      "grid_template_areas": null,
      "grid_template_columns": null,
      "grid_template_rows": null,
      "height": null,
      "justify_content": null,
      "justify_items": null,
      "left": null,
      "margin": null,
      "max_height": null,
      "max_width": null,
      "min_height": null,
      "min_width": null,
      "object_fit": null,
      "object_position": null,
      "order": null,
      "overflow": null,
      "overflow_x": null,
      "overflow_y": null,
      "padding": null,
      "right": null,
      "top": null,
      "visibility": null,
      "width": null
     }
    },
    "dcd827050593467897092b3dd242f7ac": {
     "model_module": "@jupyter-widgets/controls",
     "model_module_version": "1.5.0",
     "model_name": "HTMLModel",
     "state": {
      "_dom_classes": [],
      "_model_module": "@jupyter-widgets/controls",
      "_model_module_version": "1.5.0",
      "_model_name": "HTMLModel",
      "_view_count": null,
      "_view_module": "@jupyter-widgets/controls",
      "_view_module_version": "1.5.0",
      "_view_name": "HTMLView",
      "description": "",
      "description_tooltip": null,
      "layout": "IPY_MODEL_476627f6dc4240b6bdf612598166bccf",
      "placeholder": "​",
      "style": "IPY_MODEL_af5fd4bd052a452ea872fb3c988f4c86",
      "value": " 7858/7858 [00:00&lt;00:00, 97453.99it/s]"
     }
    },
    "e2e0daaed0f647a0800b3feeadaab157": {
     "model_module": "@jupyter-widgets/base",
     "model_module_version": "1.2.0",
     "model_name": "LayoutModel",
     "state": {
      "_model_module": "@jupyter-widgets/base",
      "_model_module_version": "1.2.0",
      "_model_name": "LayoutModel",
      "_view_count": null,
      "_view_module": "@jupyter-widgets/base",
      "_view_module_version": "1.2.0",
      "_view_name": "LayoutView",
      "align_content": null,
      "align_items": null,
      "align_self": null,
      "border": null,
      "bottom": null,
      "display": null,
      "flex": null,
      "flex_flow": null,
      "grid_area": null,
      "grid_auto_columns": null,
      "grid_auto_flow": null,
      "grid_auto_rows": null,
      "grid_column": null,
      "grid_gap": null,
      "grid_row": null,
      "grid_template_areas": null,
      "grid_template_columns": null,
      "grid_template_rows": null,
      "height": null,
      "justify_content": null,
      "justify_items": null,
      "left": null,
      "margin": null,
      "max_height": null,
      "max_width": null,
      "min_height": null,
      "min_width": null,
      "object_fit": null,
      "object_position": null,
      "order": null,
      "overflow": null,
      "overflow_x": null,
      "overflow_y": null,
      "padding": null,
      "right": null,
      "top": null,
      "visibility": null,
      "width": null
     }
    },
    "e322c37b34974863a1c30b4e426a653b": {
     "model_module": "@jupyter-widgets/controls",
     "model_module_version": "1.5.0",
     "model_name": "HTMLModel",
     "state": {
      "_dom_classes": [],
      "_model_module": "@jupyter-widgets/controls",
      "_model_module_version": "1.5.0",
      "_model_name": "HTMLModel",
      "_view_count": null,
      "_view_module": "@jupyter-widgets/controls",
      "_view_module_version": "1.5.0",
      "_view_name": "HTMLView",
      "description": "",
      "description_tooltip": null,
      "layout": "IPY_MODEL_9feb462a1c42455597386b291de9f0a9",
      "placeholder": "​",
      "style": "IPY_MODEL_1c054f03ce2240abbfa01aff4a6c9570",
      "value": "Fetching 3 files: 100%"
     }
    },
    "e3f04204321f4f24b82af5fc17824cd9": {
     "model_module": "@jupyter-widgets/controls",
     "model_module_version": "1.5.0",
     "model_name": "ProgressStyleModel",
     "state": {
      "_model_module": "@jupyter-widgets/controls",
      "_model_module_version": "1.5.0",
      "_model_name": "ProgressStyleModel",
      "_view_count": null,
      "_view_module": "@jupyter-widgets/base",
      "_view_module_version": "1.2.0",
      "_view_name": "StyleView",
      "bar_color": null,
      "description_width": ""
     }
    },
    "e5ac738f8c7c45a6b598fcb860957c32": {
     "model_module": "@jupyter-widgets/base",
     "model_module_version": "1.2.0",
     "model_name": "LayoutModel",
     "state": {
      "_model_module": "@jupyter-widgets/base",
      "_model_module_version": "1.2.0",
      "_model_name": "LayoutModel",
      "_view_count": null,
      "_view_module": "@jupyter-widgets/base",
      "_view_module_version": "1.2.0",
      "_view_name": "LayoutView",
      "align_content": null,
      "align_items": null,
      "align_self": null,
      "border": null,
      "bottom": null,
      "display": null,
      "flex": null,
      "flex_flow": null,
      "grid_area": null,
      "grid_auto_columns": null,
      "grid_auto_flow": null,
      "grid_auto_rows": null,
      "grid_column": null,
      "grid_gap": null,
      "grid_row": null,
      "grid_template_areas": null,
      "grid_template_columns": null,
      "grid_template_rows": null,
      "height": null,
      "justify_content": null,
      "justify_items": null,
      "left": null,
      "margin": null,
      "max_height": null,
      "max_width": null,
      "min_height": null,
      "min_width": null,
      "object_fit": null,
      "object_position": null,
      "order": null,
      "overflow": null,
      "overflow_x": null,
      "overflow_y": null,
      "padding": null,
      "right": null,
      "top": null,
      "visibility": null,
      "width": null
     }
    },
    "e7b55c10b1934789a772f87b9ed028d9": {
     "model_module": "@jupyter-widgets/controls",
     "model_module_version": "1.5.0",
     "model_name": "DescriptionStyleModel",
     "state": {
      "_model_module": "@jupyter-widgets/controls",
      "_model_module_version": "1.5.0",
      "_model_name": "DescriptionStyleModel",
      "_view_count": null,
      "_view_module": "@jupyter-widgets/base",
      "_view_module_version": "1.2.0",
      "_view_name": "StyleView",
      "description_width": ""
     }
    },
    "ec0d2b610a5741d7aaf2c07b781a4889": {
     "model_module": "@jupyter-widgets/controls",
     "model_module_version": "1.5.0",
     "model_name": "DescriptionStyleModel",
     "state": {
      "_model_module": "@jupyter-widgets/controls",
      "_model_module_version": "1.5.0",
      "_model_name": "DescriptionStyleModel",
      "_view_count": null,
      "_view_module": "@jupyter-widgets/base",
      "_view_module_version": "1.2.0",
      "_view_name": "StyleView",
      "description_width": ""
     }
    },
    "efa242ff2c34432daceb4d52df77e6bd": {
     "model_module": "@jupyter-widgets/controls",
     "model_module_version": "1.5.0",
     "model_name": "HTMLModel",
     "state": {
      "_dom_classes": [],
      "_model_module": "@jupyter-widgets/controls",
      "_model_module_version": "1.5.0",
      "_model_name": "HTMLModel",
      "_view_count": null,
      "_view_module": "@jupyter-widgets/controls",
      "_view_module_version": "1.5.0",
      "_view_name": "HTMLView",
      "description": "",
      "description_tooltip": null,
      "layout": "IPY_MODEL_cfe249d3e12d47ffa01d9abd6e7c7fd0",
      "placeholder": "​",
      "style": "IPY_MODEL_fc51ae195535481f8eba25f30c96dd85",
      "value": "tokenizer.model.v3: 100%"
     }
    },
    "f8a18e34941244a081696ccee70c2b13": {
     "model_module": "@jupyter-widgets/base",
     "model_module_version": "1.2.0",
     "model_name": "LayoutModel",
     "state": {
      "_model_module": "@jupyter-widgets/base",
      "_model_module_version": "1.2.0",
      "_model_name": "LayoutModel",
      "_view_count": null,
      "_view_module": "@jupyter-widgets/base",
      "_view_module_version": "1.2.0",
      "_view_name": "LayoutView",
      "align_content": null,
      "align_items": null,
      "align_self": null,
      "border": null,
      "bottom": null,
      "display": null,
      "flex": null,
      "flex_flow": null,
      "grid_area": null,
      "grid_auto_columns": null,
      "grid_auto_flow": null,
      "grid_auto_rows": null,
      "grid_column": null,
      "grid_gap": null,
      "grid_row": null,
      "grid_template_areas": null,
      "grid_template_columns": null,
      "grid_template_rows": null,
      "height": null,
      "justify_content": null,
      "justify_items": null,
      "left": null,
      "margin": null,
      "max_height": null,
      "max_width": null,
      "min_height": null,
      "min_width": null,
      "object_fit": null,
      "object_position": null,
      "order": null,
      "overflow": null,
      "overflow_x": null,
      "overflow_y": null,
      "padding": null,
      "right": null,
      "top": null,
      "visibility": null,
      "width": null
     }
    },
    "fc51ae195535481f8eba25f30c96dd85": {
     "model_module": "@jupyter-widgets/controls",
     "model_module_version": "1.5.0",
     "model_name": "DescriptionStyleModel",
     "state": {
      "_model_module": "@jupyter-widgets/controls",
      "_model_module_version": "1.5.0",
      "_model_name": "DescriptionStyleModel",
      "_view_count": null,
      "_view_module": "@jupyter-widgets/base",
      "_view_module_version": "1.2.0",
      "_view_name": "StyleView",
      "description_width": ""
     }
    },
    "fc89cedb57ef43c78b0f304c9bac1b84": {
     "model_module": "@jupyter-widgets/controls",
     "model_module_version": "1.5.0",
     "model_name": "HTMLModel",
     "state": {
      "_dom_classes": [],
      "_model_module": "@jupyter-widgets/controls",
      "_model_module_version": "1.5.0",
      "_model_name": "HTMLModel",
      "_view_count": null,
      "_view_module": "@jupyter-widgets/controls",
      "_view_module_version": "1.5.0",
      "_view_name": "HTMLView",
      "description": "",
      "description_tooltip": null,
      "layout": "IPY_MODEL_1e929e25a1e040e7959b7e24e960bbd7",
      "placeholder": "​",
      "style": "IPY_MODEL_a6157862c10647f1b3bca2da8d434366",
      "value": " 70719/70719 [00:00&lt;00:00, 115762.97it/s]"
     }
    }
   }
  }
 },
 "nbformat": 4,
 "nbformat_minor": 4
}
